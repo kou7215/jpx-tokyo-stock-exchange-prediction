{
 "cells": [
  {
   "cell_type": "code",
   "execution_count": 1,
   "id": "c9426f45",
   "metadata": {
    "_cell_guid": "b1076dfc-b9ad-4769-8c92-a6c4dae69d19",
    "_uuid": "8f2839f25d086af736a60e9eeb907d3b93b6e0e5",
    "execution": {
     "iopub.execute_input": "2022-07-04T14:25:45.640422Z",
     "iopub.status.busy": "2022-07-04T14:25:45.640013Z",
     "iopub.status.idle": "2022-07-04T14:25:57.332293Z",
     "shell.execute_reply": "2022-07-04T14:25:57.331577Z"
    },
    "papermill": {
     "duration": 11.723637,
     "end_time": "2022-07-04T14:25:57.334494",
     "exception": false,
     "start_time": "2022-07-04T14:25:45.610857",
     "status": "completed"
    },
    "tags": []
   },
   "outputs": [],
   "source": [
    "import numpy as np\n",
    "import pandas as pd\n",
    "import warnings\n",
    "warnings.simplefilter('ignore')\n",
    "\n",
    "stock_prices_df = pd.read_csv(\"../input/jpx-tokyo-stock-exchange-prediction/train_files/stock_prices.csv\")\n",
    "secondary_stock_prices_df = pd.read_csv('../input/jpx-tokyo-stock-exchange-prediction/train_files/secondary_stock_prices.csv')\n",
    "supple_stock_prices_df = pd.read_csv('../input/jpx-tokyo-stock-exchange-prediction/supplemental_files/stock_prices.csv')\n",
    "stock_list_df = pd.read_csv('../input/jpx-tokyo-stock-exchange-prediction/stock_list.csv')"
   ]
  },
  {
   "cell_type": "code",
   "execution_count": 2,
   "id": "788b1da3",
   "metadata": {
    "execution": {
     "iopub.execute_input": "2022-07-04T14:25:57.389803Z",
     "iopub.status.busy": "2022-07-04T14:25:57.389176Z",
     "iopub.status.idle": "2022-07-04T14:25:58.159863Z",
     "shell.execute_reply": "2022-07-04T14:25:58.158933Z"
    },
    "papermill": {
     "duration": 0.80094,
     "end_time": "2022-07-04T14:25:58.162741",
     "exception": false,
     "start_time": "2022-07-04T14:25:57.361801",
     "status": "completed"
    },
    "tags": []
   },
   "outputs": [
    {
     "data": {
      "text/html": [
       "<div>\n",
       "<style scoped>\n",
       "    .dataframe tbody tr th:only-of-type {\n",
       "        vertical-align: middle;\n",
       "    }\n",
       "\n",
       "    .dataframe tbody tr th {\n",
       "        vertical-align: top;\n",
       "    }\n",
       "\n",
       "    .dataframe thead th {\n",
       "        text-align: right;\n",
       "    }\n",
       "</style>\n",
       "<table border=\"1\" class=\"dataframe\">\n",
       "  <thead>\n",
       "    <tr style=\"text-align: right;\">\n",
       "      <th></th>\n",
       "      <th>RowId</th>\n",
       "      <th>Date</th>\n",
       "      <th>SecuritiesCode</th>\n",
       "      <th>Open</th>\n",
       "      <th>High</th>\n",
       "      <th>Low</th>\n",
       "      <th>Close</th>\n",
       "      <th>Volume</th>\n",
       "      <th>AdjustmentFactor</th>\n",
       "      <th>ExpectedDividend</th>\n",
       "      <th>SupervisionFlag</th>\n",
       "      <th>Target</th>\n",
       "    </tr>\n",
       "  </thead>\n",
       "  <tbody>\n",
       "    <tr>\n",
       "      <th>0</th>\n",
       "      <td>20200401_1301</td>\n",
       "      <td>2020-04-01</td>\n",
       "      <td>1301</td>\n",
       "      <td>2517.0</td>\n",
       "      <td>2557.0</td>\n",
       "      <td>2498.0</td>\n",
       "      <td>2517.0</td>\n",
       "      <td>56000</td>\n",
       "      <td>1.0</td>\n",
       "      <td>NaN</td>\n",
       "      <td>False</td>\n",
       "      <td>-0.006369</td>\n",
       "    </tr>\n",
       "    <tr>\n",
       "      <th>1</th>\n",
       "      <td>20200401_1332</td>\n",
       "      <td>2020-04-01</td>\n",
       "      <td>1332</td>\n",
       "      <td>454.0</td>\n",
       "      <td>456.0</td>\n",
       "      <td>431.0</td>\n",
       "      <td>435.0</td>\n",
       "      <td>8233600</td>\n",
       "      <td>1.0</td>\n",
       "      <td>NaN</td>\n",
       "      <td>False</td>\n",
       "      <td>0.009662</td>\n",
       "    </tr>\n",
       "    <tr>\n",
       "      <th>2</th>\n",
       "      <td>20200401_1333</td>\n",
       "      <td>2020-04-01</td>\n",
       "      <td>1333</td>\n",
       "      <td>2243.0</td>\n",
       "      <td>2296.0</td>\n",
       "      <td>2234.0</td>\n",
       "      <td>2251.0</td>\n",
       "      <td>355700</td>\n",
       "      <td>1.0</td>\n",
       "      <td>NaN</td>\n",
       "      <td>False</td>\n",
       "      <td>-0.020852</td>\n",
       "    </tr>\n",
       "    <tr>\n",
       "      <th>3</th>\n",
       "      <td>20200401_1376</td>\n",
       "      <td>2020-04-01</td>\n",
       "      <td>1376</td>\n",
       "      <td>1305.0</td>\n",
       "      <td>1325.0</td>\n",
       "      <td>1216.0</td>\n",
       "      <td>1261.0</td>\n",
       "      <td>8500</td>\n",
       "      <td>1.0</td>\n",
       "      <td>NaN</td>\n",
       "      <td>False</td>\n",
       "      <td>0.008045</td>\n",
       "    </tr>\n",
       "    <tr>\n",
       "      <th>4</th>\n",
       "      <td>20200401_1377</td>\n",
       "      <td>2020-04-01</td>\n",
       "      <td>1377</td>\n",
       "      <td>3250.0</td>\n",
       "      <td>3305.0</td>\n",
       "      <td>3115.0</td>\n",
       "      <td>3125.0</td>\n",
       "      <td>104100</td>\n",
       "      <td>1.0</td>\n",
       "      <td>NaN</td>\n",
       "      <td>False</td>\n",
       "      <td>-0.016234</td>\n",
       "    </tr>\n",
       "  </tbody>\n",
       "</table>\n",
       "</div>"
      ],
      "text/plain": [
       "           RowId        Date  SecuritiesCode    Open    High     Low   Close  \\\n",
       "0  20200401_1301  2020-04-01            1301  2517.0  2557.0  2498.0  2517.0   \n",
       "1  20200401_1332  2020-04-01            1332   454.0   456.0   431.0   435.0   \n",
       "2  20200401_1333  2020-04-01            1333  2243.0  2296.0  2234.0  2251.0   \n",
       "3  20200401_1376  2020-04-01            1376  1305.0  1325.0  1216.0  1261.0   \n",
       "4  20200401_1377  2020-04-01            1377  3250.0  3305.0  3115.0  3125.0   \n",
       "\n",
       "    Volume  AdjustmentFactor  ExpectedDividend  SupervisionFlag    Target  \n",
       "0    56000               1.0               NaN            False -0.006369  \n",
       "1  8233600               1.0               NaN            False  0.009662  \n",
       "2   355700               1.0               NaN            False -0.020852  \n",
       "3     8500               1.0               NaN            False  0.008045  \n",
       "4   104100               1.0               NaN            False -0.016234  "
      ]
     },
     "execution_count": 2,
     "metadata": {},
     "output_type": "execute_result"
    }
   ],
   "source": [
    "stock_prices_df = stock_prices_df[stock_prices_df['Date'] >= '2020-04-01'].reset_index(drop=True)\n",
    "stock_prices_df = pd.concat((stock_prices_df, supple_stock_prices_df)).reset_index(drop=True)\n",
    "stock_prices_df.head()"
   ]
  },
  {
   "cell_type": "markdown",
   "id": "fe1080a4",
   "metadata": {
    "papermill": {
     "duration": 0.026856,
     "end_time": "2022-07-04T14:25:58.228955",
     "exception": false,
     "start_time": "2022-07-04T14:25:58.202099",
     "status": "completed"
    },
    "tags": []
   },
   "source": [
    "# preprocess"
   ]
  },
  {
   "cell_type": "code",
   "execution_count": 3,
   "id": "6868f9e3",
   "metadata": {
    "execution": {
     "iopub.execute_input": "2022-07-04T14:25:58.284176Z",
     "iopub.status.busy": "2022-07-04T14:25:58.283946Z",
     "iopub.status.idle": "2022-07-04T14:25:58.289573Z",
     "shell.execute_reply": "2022-07-04T14:25:58.288779Z"
    },
    "papermill": {
     "duration": 0.035302,
     "end_time": "2022-07-04T14:25:58.291553",
     "exception": false,
     "start_time": "2022-07-04T14:25:58.256251",
     "status": "completed"
    },
    "tags": []
   },
   "outputs": [],
   "source": [
    "IDX_BEGIN_FEATURE = 3\n",
    "\n",
    "def df2Codedict(_df, is_values=False):\n",
    "    df = _df.copy()\n",
    "    dataset_dict = {}\n",
    "    for sc in df['SecuritiesCode'].unique():\n",
    "        if is_values:\n",
    "             # \"3:\" means without [date, timestamp, code]\n",
    "            dataset_dict[str(sc)] = df[df['SecuritiesCode'] == sc].values[:, IDX_BEGIN_FEATURE:].astype(np.float32)\n",
    "        else:\n",
    "            dataset_dict[str(sc)] = df[df['SecuritiesCode'] == sc].reset_index(drop=True)\n",
    "    return dataset_dict"
   ]
  },
  {
   "cell_type": "code",
   "execution_count": 4,
   "id": "01dea784",
   "metadata": {
    "execution": {
     "iopub.execute_input": "2022-07-04T14:25:58.348853Z",
     "iopub.status.busy": "2022-07-04T14:25:58.348668Z",
     "iopub.status.idle": "2022-07-04T14:25:58.369998Z",
     "shell.execute_reply": "2022-07-04T14:25:58.369238Z"
    },
    "papermill": {
     "duration": 0.052776,
     "end_time": "2022-07-04T14:25:58.371895",
     "exception": false,
     "start_time": "2022-07-04T14:25:58.319119",
     "status": "completed"
    },
    "tags": []
   },
   "outputs": [],
   "source": [
    "def cat_col(df):\n",
    "    df['SecuritiesCode'] = df['SecuritiesCode'].astype('category')\n",
    "    df['SupervisionFlag'] = df['SupervisionFlag'].astype('category')\n",
    "    df['AdjustmentFactor'] = df['AdjustmentFactor'].astype('category')\n",
    "    df['Month'] = df['Month'].astype('category')\n",
    "    return df\n",
    "\n",
    "def preprocess(_df, training=True):\n",
    "    df = _df.copy()\n",
    "    def get_month(dt):\n",
    "        x = dt.strftime('%m')\n",
    "        return x        \n",
    "    \n",
    "    def fillna_as_0(df):\n",
    "        na_features_name = df.isnull().sum().index[df.isnull().sum() != 0]\n",
    "        #df[na_features_name] = df[na_features_name].fillna(0)\n",
    "        df[na_features_name] = df[na_features_name].interpolate(method='ffill')\n",
    "\n",
    "        return df\n",
    "    \n",
    "    def as_float32(df):\n",
    "        float_columns = df.describe().columns\n",
    "        df[float_columns] = df[float_columns].astype('float32')\n",
    "        return df\n",
    "\n",
    "    def create_RSI(df):\n",
    "        # 終値の差分\n",
    "        df_diff = df['Close'].diff()\n",
    "        \n",
    "        # 値上がり幅と値下がり幅\n",
    "        df_up, df_down = df_diff.copy(), df_diff.copy()\n",
    "        df_up[df_up < 0] = 0\n",
    "        df_down[df_down > 0] = 0\n",
    "        df_down = df_down * -1\n",
    "        \n",
    "        # 14日間の単純移動平均\n",
    "        sim14_up = df_up.rolling(window=14, min_periods=1).mean().fillna(method='bfill')\n",
    "        sim14_down = df_down.rolling(window=14, min_periods=1).mean().fillna(method='bfill')\n",
    "        # RSI\n",
    "        return sim14_up / (sim14_up + sim14_down) * 100\n",
    "    \n",
    "    \n",
    "    def create_base_features(df):\n",
    "        # MA\n",
    "        df['MA_5days'] = df['Close'].rolling(5, min_periods=1).mean().fillna(method='bfill')\n",
    "        df['MA_25days'] = df['Close'].rolling(25, min_periods=1).mean().fillna(method='bfill')\n",
    "        df['MA_75days'] = df['Close'].rolling(75, min_periods=1).mean().fillna(method='bfill')\n",
    "\n",
    "        # MACD\n",
    "        df['MACD'] = df['Close'].ewm(span=12).mean() - df['Close'].ewm(span=26).mean()\n",
    "        df['MACD'] = df['MACD'].fillna(method='bfill')\n",
    "        df['Signal'] = df['MACD'].ewm(span=9).mean()\n",
    "        df['Signal'] = df['Signal'].fillna(method='bfill')\n",
    "\n",
    "        # bollinger_band\n",
    "        df['Bollinger_band_upper'] = df['Close'].rolling(25, min_periods=1).mean() + 2*df['Close'].rolling(25, min_periods=1).std()\n",
    "        df['Bollinger_band_upper'] = df['Bollinger_band_upper'].fillna(method='bfill')\n",
    "        df['Bollinger_band_lower'] = df['Close'].rolling(25, min_periods=1).mean() - 2*df['Close'].rolling(25, min_periods=1).std()\n",
    "        df['Bollinger_band_lower'] = df['Bollinger_band_lower'].fillna(method='bfill')\n",
    "        \n",
    "        # RSI\n",
    "        df['RSI'] = create_RSI(df)\n",
    "        \n",
    "        return df\n",
    "    \n",
    "    def move_Target_to_last_row(df):\n",
    "        # move target last row\n",
    "        target_tmp = df['Target']\n",
    "        df = df.drop('Target', axis=1)\n",
    "        df['Target'] = target_tmp\n",
    "        return df\n",
    "    \n",
    "    def create_diff(df):\n",
    "        cols = df.describe().columns\n",
    "        if 'Target' in cols:\n",
    "            cols = cols.drop('Target')\n",
    "        for _c in cols:\n",
    "            df[_c + '_diff'] = df[_c].diff().fillna(method='bfill')\n",
    "        return df\n",
    "\n",
    "    df['ExpectedDividend'] = df['ExpectedDividend'].fillna(0)\n",
    "    df['Date'] = pd.to_datetime(df['Date'], format = \"%Y-%m-%d\")\n",
    "    df['SupervisionFlag'] = df['SupervisionFlag'].map({True: 1, False: 0})\n",
    "    df['Month'] =  list(map(get_month, df['Date']))\n",
    "    df['SecuritiesCode_int'] = df['SecuritiesCode'].astype('float32')\n",
    "    df = cat_col(df)\n",
    "    df = create_base_features(df)\n",
    "    #df = fillna_as_0(df)\n",
    "    df = create_diff(df)\n",
    "    df = df.interpolate(method='ffill')\n",
    "    df = as_float32(df)\n",
    "\n",
    "    if training:\n",
    "        df = move_Target_to_last_row(df)\n",
    "    \n",
    "    return df"
   ]
  },
  {
   "cell_type": "code",
   "execution_count": 5,
   "id": "3ea5996b",
   "metadata": {
    "execution": {
     "iopub.execute_input": "2022-07-04T14:25:58.427292Z",
     "iopub.status.busy": "2022-07-04T14:25:58.427093Z",
     "iopub.status.idle": "2022-07-04T14:26:02.456344Z",
     "shell.execute_reply": "2022-07-04T14:26:02.455522Z"
    },
    "papermill": {
     "duration": 4.059868,
     "end_time": "2022-07-04T14:26:02.458580",
     "exception": false,
     "start_time": "2022-07-04T14:25:58.398712",
     "status": "completed"
    },
    "tags": []
   },
   "outputs": [],
   "source": [
    "stock_prices_dict = df2Codedict(stock_prices_df)\n",
    "#secondary_stock_prices_dict = df2Codedict(secondary_stock_prices_df)\n",
    "\n",
    "#stock_prices_dict.update(secondary_stock_prices_dict)\n",
    "\n",
    "#supple_stock_prices_dict = df2Codedict(supple_stock_prices_df)"
   ]
  },
  {
   "cell_type": "code",
   "execution_count": 6,
   "id": "67c49ba5",
   "metadata": {
    "execution": {
     "iopub.execute_input": "2022-07-04T14:26:02.515825Z",
     "iopub.status.busy": "2022-07-04T14:26:02.515303Z",
     "iopub.status.idle": "2022-07-04T14:30:19.569423Z",
     "shell.execute_reply": "2022-07-04T14:30:19.568672Z"
    },
    "papermill": {
     "duration": 257.085381,
     "end_time": "2022-07-04T14:30:19.571536",
     "exception": false,
     "start_time": "2022-07-04T14:26:02.486155",
     "status": "completed"
    },
    "tags": []
   },
   "outputs": [
    {
     "name": "stderr",
     "output_type": "stream",
     "text": [
      "100%|██████████| 2000/2000 [04:14<00:00,  7.86it/s]\n"
     ]
    }
   ],
   "source": [
    "from tqdm import tqdm\n",
    "\n",
    "stock_prices_proced_df = []\n",
    "supple_stock_prices_proced_df = []\n",
    "for code, df in tqdm(stock_prices_dict.items()):\n",
    "    stock_prices_proced_df.append(preprocess(df))\n",
    "\n",
    "#for code, df in tqdm(supple_stock_prices_dict.items()):\n",
    "#    supple_stock_prices_proced_df.append(preprocess(df))\n",
    "    \n",
    "stock_prices_proced_df = pd.concat(stock_prices_proced_df).reset_index(drop=True)\n",
    "stock_prices_proced_df = cat_col(stock_prices_proced_df).interpolate(method='ffill')\n",
    "#supple_stock_prices_proced_df = pd.concat(supple_stock_prices_proced_df).reset_index(drop=True)\n",
    "#supple_stock_prices_proced_df= cat_col(supple_stock_prices_proced_df)"
   ]
  },
  {
   "cell_type": "code",
   "execution_count": 7,
   "id": "5d1857c7",
   "metadata": {
    "execution": {
     "iopub.execute_input": "2022-07-04T14:30:20.844131Z",
     "iopub.status.busy": "2022-07-04T14:30:20.843879Z",
     "iopub.status.idle": "2022-07-04T14:30:21.033154Z",
     "shell.execute_reply": "2022-07-04T14:30:21.032349Z"
    },
    "papermill": {
     "duration": 0.830016,
     "end_time": "2022-07-04T14:30:21.035504",
     "exception": false,
     "start_time": "2022-07-04T14:30:20.205488",
     "status": "completed"
    },
    "tags": []
   },
   "outputs": [
    {
     "data": {
      "text/html": [
       "<div>\n",
       "<style scoped>\n",
       "    .dataframe tbody tr th:only-of-type {\n",
       "        vertical-align: middle;\n",
       "    }\n",
       "\n",
       "    .dataframe tbody tr th {\n",
       "        vertical-align: top;\n",
       "    }\n",
       "\n",
       "    .dataframe thead th {\n",
       "        text-align: right;\n",
       "    }\n",
       "</style>\n",
       "<table border=\"1\" class=\"dataframe\">\n",
       "  <thead>\n",
       "    <tr style=\"text-align: right;\">\n",
       "      <th></th>\n",
       "      <th>RowId</th>\n",
       "      <th>Date</th>\n",
       "      <th>SecuritiesCode</th>\n",
       "      <th>Open</th>\n",
       "      <th>High</th>\n",
       "      <th>Low</th>\n",
       "      <th>Close</th>\n",
       "      <th>Volume</th>\n",
       "      <th>AdjustmentFactor</th>\n",
       "      <th>ExpectedDividend</th>\n",
       "      <th>...</th>\n",
       "      <th>SecuritiesCode_int_diff</th>\n",
       "      <th>MA_5days_diff</th>\n",
       "      <th>MA_25days_diff</th>\n",
       "      <th>MA_75days_diff</th>\n",
       "      <th>MACD_diff</th>\n",
       "      <th>Signal_diff</th>\n",
       "      <th>Bollinger_band_upper_diff</th>\n",
       "      <th>Bollinger_band_lower_diff</th>\n",
       "      <th>RSI_diff</th>\n",
       "      <th>Target</th>\n",
       "    </tr>\n",
       "  </thead>\n",
       "  <tbody>\n",
       "    <tr>\n",
       "      <th>n_nan</th>\n",
       "      <td>0</td>\n",
       "      <td>0</td>\n",
       "      <td>0</td>\n",
       "      <td>0</td>\n",
       "      <td>0</td>\n",
       "      <td>0</td>\n",
       "      <td>0</td>\n",
       "      <td>0</td>\n",
       "      <td>0</td>\n",
       "      <td>0</td>\n",
       "      <td>...</td>\n",
       "      <td>0</td>\n",
       "      <td>0</td>\n",
       "      <td>0</td>\n",
       "      <td>0</td>\n",
       "      <td>0</td>\n",
       "      <td>0</td>\n",
       "      <td>0</td>\n",
       "      <td>0</td>\n",
       "      <td>0</td>\n",
       "      <td>0</td>\n",
       "    </tr>\n",
       "    <tr>\n",
       "      <th>%</th>\n",
       "      <td>0.0</td>\n",
       "      <td>0.0</td>\n",
       "      <td>0.0</td>\n",
       "      <td>0.0</td>\n",
       "      <td>0.0</td>\n",
       "      <td>0.0</td>\n",
       "      <td>0.0</td>\n",
       "      <td>0.0</td>\n",
       "      <td>0.0</td>\n",
       "      <td>0.0</td>\n",
       "      <td>...</td>\n",
       "      <td>0.0</td>\n",
       "      <td>0.0</td>\n",
       "      <td>0.0</td>\n",
       "      <td>0.0</td>\n",
       "      <td>0.0</td>\n",
       "      <td>0.0</td>\n",
       "      <td>0.0</td>\n",
       "      <td>0.0</td>\n",
       "      <td>0.0</td>\n",
       "      <td>0.0</td>\n",
       "    </tr>\n",
       "    <tr>\n",
       "      <th>dtype</th>\n",
       "      <td>object</td>\n",
       "      <td>datetime64[ns]</td>\n",
       "      <td>category</td>\n",
       "      <td>float32</td>\n",
       "      <td>float32</td>\n",
       "      <td>float32</td>\n",
       "      <td>float32</td>\n",
       "      <td>float32</td>\n",
       "      <td>category</td>\n",
       "      <td>float32</td>\n",
       "      <td>...</td>\n",
       "      <td>float32</td>\n",
       "      <td>float32</td>\n",
       "      <td>float32</td>\n",
       "      <td>float32</td>\n",
       "      <td>float32</td>\n",
       "      <td>float32</td>\n",
       "      <td>float32</td>\n",
       "      <td>float32</td>\n",
       "      <td>float32</td>\n",
       "      <td>float32</td>\n",
       "    </tr>\n",
       "  </tbody>\n",
       "</table>\n",
       "<p>3 rows × 37 columns</p>\n",
       "</div>"
      ],
      "text/plain": [
       "        RowId            Date SecuritiesCode     Open     High      Low  \\\n",
       "n_nan       0               0              0        0        0        0   \n",
       "%         0.0             0.0            0.0      0.0      0.0      0.0   \n",
       "dtype  object  datetime64[ns]       category  float32  float32  float32   \n",
       "\n",
       "         Close   Volume AdjustmentFactor ExpectedDividend  ...  \\\n",
       "n_nan        0        0                0                0  ...   \n",
       "%          0.0      0.0              0.0              0.0  ...   \n",
       "dtype  float32  float32         category          float32  ...   \n",
       "\n",
       "      SecuritiesCode_int_diff MA_5days_diff MA_25days_diff MA_75days_diff  \\\n",
       "n_nan                       0             0              0              0   \n",
       "%                         0.0           0.0            0.0            0.0   \n",
       "dtype                 float32       float32        float32        float32   \n",
       "\n",
       "      MACD_diff Signal_diff Bollinger_band_upper_diff  \\\n",
       "n_nan         0           0                         0   \n",
       "%           0.0         0.0                       0.0   \n",
       "dtype   float32     float32                   float32   \n",
       "\n",
       "      Bollinger_band_lower_diff RSI_diff   Target  \n",
       "n_nan                         0        0        0  \n",
       "%                           0.0      0.0      0.0  \n",
       "dtype                   float32  float32  float32  \n",
       "\n",
       "[3 rows x 37 columns]"
      ]
     },
     "metadata": {},
     "output_type": "display_data"
    }
   ],
   "source": [
    "def NA_counter(x_df):\n",
    "    n_nan = x_df.isnull().sum()\n",
    "    x_df_dtype = x_df.dtypes\n",
    "    percent_nan = n_nan/len(x_df)*100\n",
    "    display(pd.DataFrame([n_nan, percent_nan,x_df_dtype]).rename({0:'n_nan', 1:'%', 2:'dtype'})) \n",
    "    \n",
    "NA_counter(stock_prices_proced_df)"
   ]
  },
  {
   "cell_type": "code",
   "execution_count": 8,
   "id": "d8a9b49b",
   "metadata": {
    "execution": {
     "iopub.execute_input": "2022-07-04T14:30:22.566797Z",
     "iopub.status.busy": "2022-07-04T14:30:22.566532Z",
     "iopub.status.idle": "2022-07-04T14:30:23.446711Z",
     "shell.execute_reply": "2022-07-04T14:30:23.445884Z"
    },
    "papermill": {
     "duration": 1.655031,
     "end_time": "2022-07-04T14:30:23.449026",
     "exception": false,
     "start_time": "2022-07-04T14:30:21.793995",
     "status": "completed"
    },
    "tags": []
   },
   "outputs": [
    {
     "data": {
      "text/plain": [
       "Index(['Open', 'High', 'Low', 'Close', 'Volume', 'ExpectedDividend',\n",
       "       'SecuritiesCode_int', 'MA_5days', 'MA_25days', 'MA_75days', 'MACD',\n",
       "       'Signal', 'Bollinger_band_upper', 'Bollinger_band_lower', 'RSI',\n",
       "       'Open_diff', 'High_diff', 'Low_diff', 'Close_diff', 'Volume_diff',\n",
       "       'ExpectedDividend_diff', 'SecuritiesCode_int_diff', 'MA_5days_diff',\n",
       "       'MA_25days_diff', 'MA_75days_diff', 'MACD_diff', 'Signal_diff',\n",
       "       'Bollinger_band_upper_diff', 'Bollinger_band_lower_diff', 'RSI_diff'],\n",
       "      dtype='object')"
      ]
     },
     "execution_count": 8,
     "metadata": {},
     "output_type": "execute_result"
    }
   ],
   "source": [
    "stock_prices_proced_df.describe().columns.drop(['Target'])"
   ]
  },
  {
   "cell_type": "code",
   "execution_count": 9,
   "id": "b2369efc",
   "metadata": {
    "execution": {
     "iopub.execute_input": "2022-07-04T14:30:24.730615Z",
     "iopub.status.busy": "2022-07-04T14:30:24.730304Z",
     "iopub.status.idle": "2022-07-04T14:30:25.149255Z",
     "shell.execute_reply": "2022-07-04T14:30:25.148581Z"
    },
    "papermill": {
     "duration": 1.071046,
     "end_time": "2022-07-04T14:30:25.151984",
     "exception": false,
     "start_time": "2022-07-04T14:30:24.080938",
     "status": "completed"
    },
    "tags": []
   },
   "outputs": [
    {
     "data": {
      "text/plain": [
       "<matplotlib.legend.Legend at 0x7f6375eaae90>"
      ]
     },
     "execution_count": 9,
     "metadata": {},
     "output_type": "execute_result"
    },
    {
     "data": {
      "image/png": "[encoded data removed]",
      "text/plain": [
       "<Figure size 432x288 with 1 Axes>"
      ]
     },
     "metadata": {
      "needs_background": "light"
     },
     "output_type": "display_data"
    }
   ],
   "source": [
    "stock_prices_proced_df[stock_prices_proced_df.SecuritiesCode==1301].iloc[:, 3:-1].plot().legend(bbox_to_anchor=(1.05, 1), loc='upper left', borderaxespad=0)"
   ]
  },
  {
   "cell_type": "code",
   "execution_count": 10,
   "id": "fd0f468c",
   "metadata": {
    "execution": {
     "iopub.execute_input": "2022-07-04T14:30:26.431363Z",
     "iopub.status.busy": "2022-07-04T14:30:26.431065Z",
     "iopub.status.idle": "2022-07-04T14:30:26.459650Z",
     "shell.execute_reply": "2022-07-04T14:30:26.459028Z"
    },
    "papermill": {
     "duration": 0.667876,
     "end_time": "2022-07-04T14:30:26.461433",
     "exception": false,
     "start_time": "2022-07-04T14:30:25.793557",
     "status": "completed"
    },
    "tags": []
   },
   "outputs": [
    {
     "data": {
      "text/html": [
       "<div>\n",
       "<style scoped>\n",
       "    .dataframe tbody tr th:only-of-type {\n",
       "        vertical-align: middle;\n",
       "    }\n",
       "\n",
       "    .dataframe tbody tr th {\n",
       "        vertical-align: top;\n",
       "    }\n",
       "\n",
       "    .dataframe thead th {\n",
       "        text-align: right;\n",
       "    }\n",
       "</style>\n",
       "<table border=\"1\" class=\"dataframe\">\n",
       "  <thead>\n",
       "    <tr style=\"text-align: right;\">\n",
       "      <th></th>\n",
       "      <th>RowId</th>\n",
       "      <th>Date</th>\n",
       "      <th>SecuritiesCode</th>\n",
       "      <th>Open</th>\n",
       "      <th>High</th>\n",
       "      <th>Low</th>\n",
       "      <th>Close</th>\n",
       "      <th>Volume</th>\n",
       "      <th>AdjustmentFactor</th>\n",
       "      <th>ExpectedDividend</th>\n",
       "      <th>...</th>\n",
       "      <th>SecuritiesCode_int_diff</th>\n",
       "      <th>MA_5days_diff</th>\n",
       "      <th>MA_25days_diff</th>\n",
       "      <th>MA_75days_diff</th>\n",
       "      <th>MACD_diff</th>\n",
       "      <th>Signal_diff</th>\n",
       "      <th>Bollinger_band_upper_diff</th>\n",
       "      <th>Bollinger_band_lower_diff</th>\n",
       "      <th>RSI_diff</th>\n",
       "      <th>Target</th>\n",
       "    </tr>\n",
       "  </thead>\n",
       "  <tbody>\n",
       "    <tr>\n",
       "      <th>0</th>\n",
       "      <td>20200401_1301</td>\n",
       "      <td>2020-04-01</td>\n",
       "      <td>1301</td>\n",
       "      <td>2517.0</td>\n",
       "      <td>2557.0</td>\n",
       "      <td>2498.0</td>\n",
       "      <td>2517.0</td>\n",
       "      <td>56000.0</td>\n",
       "      <td>1.0</td>\n",
       "      <td>0.0</td>\n",
       "      <td>...</td>\n",
       "      <td>0.0</td>\n",
       "      <td>-2.500000</td>\n",
       "      <td>-2.500000</td>\n",
       "      <td>-2.500000</td>\n",
       "      <td>-0.112179</td>\n",
       "      <td>-0.062322</td>\n",
       "      <td>0.000000</td>\n",
       "      <td>0.000000</td>\n",
       "      <td>0.000000</td>\n",
       "      <td>-0.006369</td>\n",
       "    </tr>\n",
       "    <tr>\n",
       "      <th>1</th>\n",
       "      <td>20200402_1301</td>\n",
       "      <td>2020-04-02</td>\n",
       "      <td>1301</td>\n",
       "      <td>2467.0</td>\n",
       "      <td>2539.0</td>\n",
       "      <td>2446.0</td>\n",
       "      <td>2512.0</td>\n",
       "      <td>44400.0</td>\n",
       "      <td>1.0</td>\n",
       "      <td>0.0</td>\n",
       "      <td>...</td>\n",
       "      <td>0.0</td>\n",
       "      <td>-2.500000</td>\n",
       "      <td>-2.500000</td>\n",
       "      <td>-2.500000</td>\n",
       "      <td>-0.112179</td>\n",
       "      <td>-0.062322</td>\n",
       "      <td>0.000000</td>\n",
       "      <td>0.000000</td>\n",
       "      <td>0.000000</td>\n",
       "      <td>0.003205</td>\n",
       "    </tr>\n",
       "    <tr>\n",
       "      <th>2</th>\n",
       "      <td>20200403_1301</td>\n",
       "      <td>2020-04-03</td>\n",
       "      <td>1301</td>\n",
       "      <td>2481.0</td>\n",
       "      <td>2530.0</td>\n",
       "      <td>2456.0</td>\n",
       "      <td>2496.0</td>\n",
       "      <td>31300.0</td>\n",
       "      <td>1.0</td>\n",
       "      <td>0.0</td>\n",
       "      <td>...</td>\n",
       "      <td>0.0</td>\n",
       "      <td>-6.166667</td>\n",
       "      <td>-6.166667</td>\n",
       "      <td>-6.166667</td>\n",
       "      <td>-0.526918</td>\n",
       "      <td>-0.236384</td>\n",
       "      <td>8.701575</td>\n",
       "      <td>-21.034908</td>\n",
       "      <td>0.000000</td>\n",
       "      <td>0.020367</td>\n",
       "    </tr>\n",
       "    <tr>\n",
       "      <th>3</th>\n",
       "      <td>20200406_1301</td>\n",
       "      <td>2020-04-06</td>\n",
       "      <td>1301</td>\n",
       "      <td>2450.0</td>\n",
       "      <td>2527.0</td>\n",
       "      <td>2450.0</td>\n",
       "      <td>2504.0</td>\n",
       "      <td>29600.0</td>\n",
       "      <td>1.0</td>\n",
       "      <td>0.0</td>\n",
       "      <td>...</td>\n",
       "      <td>0.0</td>\n",
       "      <td>-1.083333</td>\n",
       "      <td>-1.083333</td>\n",
       "      <td>-1.083333</td>\n",
       "      <td>0.064847</td>\n",
       "      <td>-0.093342</td>\n",
       "      <td>-4.592596</td>\n",
       "      <td>2.425929</td>\n",
       "      <td>27.586206</td>\n",
       "      <td>0.016438</td>\n",
       "    </tr>\n",
       "    <tr>\n",
       "      <th>4</th>\n",
       "      <td>20200407_1301</td>\n",
       "      <td>2020-04-07</td>\n",
       "      <td>1301</td>\n",
       "      <td>2550.0</td>\n",
       "      <td>2560.0</td>\n",
       "      <td>2495.0</td>\n",
       "      <td>2555.0</td>\n",
       "      <td>27900.0</td>\n",
       "      <td>1.0</td>\n",
       "      <td>0.0</td>\n",
       "      <td>...</td>\n",
       "      <td>0.0</td>\n",
       "      <td>9.550000</td>\n",
       "      <td>9.550000</td>\n",
       "      <td>9.550000</td>\n",
       "      <td>2.076734</td>\n",
       "      <td>0.563580</td>\n",
       "      <td>36.713810</td>\n",
       "      <td>-17.613811</td>\n",
       "      <td>46.163792</td>\n",
       "      <td>-0.016943</td>\n",
       "    </tr>\n",
       "  </tbody>\n",
       "</table>\n",
       "<p>5 rows × 37 columns</p>\n",
       "</div>"
      ],
      "text/plain": [
       "           RowId       Date SecuritiesCode    Open    High     Low   Close  \\\n",
       "0  20200401_1301 2020-04-01           1301  2517.0  2557.0  2498.0  2517.0   \n",
       "1  20200402_1301 2020-04-02           1301  2467.0  2539.0  2446.0  2512.0   \n",
       "2  20200403_1301 2020-04-03           1301  2481.0  2530.0  2456.0  2496.0   \n",
       "3  20200406_1301 2020-04-06           1301  2450.0  2527.0  2450.0  2504.0   \n",
       "4  20200407_1301 2020-04-07           1301  2550.0  2560.0  2495.0  2555.0   \n",
       "\n",
       "    Volume AdjustmentFactor  ExpectedDividend  ... SecuritiesCode_int_diff  \\\n",
       "0  56000.0              1.0               0.0  ...                     0.0   \n",
       "1  44400.0              1.0               0.0  ...                     0.0   \n",
       "2  31300.0              1.0               0.0  ...                     0.0   \n",
       "3  29600.0              1.0               0.0  ...                     0.0   \n",
       "4  27900.0              1.0               0.0  ...                     0.0   \n",
       "\n",
       "  MA_5days_diff  MA_25days_diff  MA_75days_diff  MACD_diff  Signal_diff  \\\n",
       "0     -2.500000       -2.500000       -2.500000  -0.112179    -0.062322   \n",
       "1     -2.500000       -2.500000       -2.500000  -0.112179    -0.062322   \n",
       "2     -6.166667       -6.166667       -6.166667  -0.526918    -0.236384   \n",
       "3     -1.083333       -1.083333       -1.083333   0.064847    -0.093342   \n",
       "4      9.550000        9.550000        9.550000   2.076734     0.563580   \n",
       "\n",
       "   Bollinger_band_upper_diff  Bollinger_band_lower_diff   RSI_diff    Target  \n",
       "0                   0.000000                   0.000000   0.000000 -0.006369  \n",
       "1                   0.000000                   0.000000   0.000000  0.003205  \n",
       "2                   8.701575                 -21.034908   0.000000  0.020367  \n",
       "3                  -4.592596                   2.425929  27.586206  0.016438  \n",
       "4                  36.713810                 -17.613811  46.163792 -0.016943  \n",
       "\n",
       "[5 rows x 37 columns]"
      ]
     },
     "execution_count": 10,
     "metadata": {},
     "output_type": "execute_result"
    }
   ],
   "source": [
    "stock_prices_proced_df.head()"
   ]
  },
  {
   "cell_type": "code",
   "execution_count": 11,
   "id": "a2f96e93",
   "metadata": {
    "execution": {
     "iopub.execute_input": "2022-07-04T14:30:27.795226Z",
     "iopub.status.busy": "2022-07-04T14:30:27.794553Z",
     "iopub.status.idle": "2022-07-04T14:30:28.810799Z",
     "shell.execute_reply": "2022-07-04T14:30:28.810071Z"
    },
    "papermill": {
     "duration": 1.705839,
     "end_time": "2022-07-04T14:30:28.812869",
     "exception": false,
     "start_time": "2022-07-04T14:30:27.107030",
     "status": "completed"
    },
    "tags": []
   },
   "outputs": [
    {
     "data": {
      "text/html": [
       "<div>\n",
       "<style scoped>\n",
       "    .dataframe tbody tr th:only-of-type {\n",
       "        vertical-align: middle;\n",
       "    }\n",
       "\n",
       "    .dataframe tbody tr th {\n",
       "        vertical-align: top;\n",
       "    }\n",
       "\n",
       "    .dataframe thead th {\n",
       "        text-align: right;\n",
       "    }\n",
       "</style>\n",
       "<table border=\"1\" class=\"dataframe\">\n",
       "  <thead>\n",
       "    <tr style=\"text-align: right;\">\n",
       "      <th></th>\n",
       "      <th>Open</th>\n",
       "      <th>High</th>\n",
       "      <th>Low</th>\n",
       "      <th>Close</th>\n",
       "      <th>Volume</th>\n",
       "      <th>ExpectedDividend</th>\n",
       "      <th>SecuritiesCode_int</th>\n",
       "      <th>MA_5days</th>\n",
       "      <th>MA_25days</th>\n",
       "      <th>MA_75days</th>\n",
       "      <th>...</th>\n",
       "      <th>SecuritiesCode_int_diff</th>\n",
       "      <th>MA_5days_diff</th>\n",
       "      <th>MA_25days_diff</th>\n",
       "      <th>MA_75days_diff</th>\n",
       "      <th>MACD_diff</th>\n",
       "      <th>Signal_diff</th>\n",
       "      <th>Bollinger_band_upper_diff</th>\n",
       "      <th>Bollinger_band_lower_diff</th>\n",
       "      <th>RSI_diff</th>\n",
       "      <th>Target</th>\n",
       "    </tr>\n",
       "  </thead>\n",
       "  <tbody>\n",
       "    <tr>\n",
       "      <th>count</th>\n",
       "      <td>1.088589e+06</td>\n",
       "      <td>1.088589e+06</td>\n",
       "      <td>1.088589e+06</td>\n",
       "      <td>1.088589e+06</td>\n",
       "      <td>1.088589e+06</td>\n",
       "      <td>1.088589e+06</td>\n",
       "      <td>1.088589e+06</td>\n",
       "      <td>1.088589e+06</td>\n",
       "      <td>1.088589e+06</td>\n",
       "      <td>1.088589e+06</td>\n",
       "      <td>...</td>\n",
       "      <td>1088589.0</td>\n",
       "      <td>1.088589e+06</td>\n",
       "      <td>1.088589e+06</td>\n",
       "      <td>1.088589e+06</td>\n",
       "      <td>1.088589e+06</td>\n",
       "      <td>1.088589e+06</td>\n",
       "      <td>1.088589e+06</td>\n",
       "      <td>1.088589e+06</td>\n",
       "      <td>1.088589e+06</td>\n",
       "      <td>1.088589e+06</td>\n",
       "    </tr>\n",
       "    <tr>\n",
       "      <th>mean</th>\n",
       "      <td>2.690890e+03</td>\n",
       "      <td>2.725683e+03</td>\n",
       "      <td>2.653543e+03</td>\n",
       "      <td>2.689580e+03</td>\n",
       "      <td>6.275229e+05</td>\n",
       "      <td>1.796051e-01</td>\n",
       "      <td>5.884955e+03</td>\n",
       "      <td>2.688090e+03</td>\n",
       "      <td>2.680752e+03</td>\n",
       "      <td>2.666994e+03</td>\n",
       "      <td>...</td>\n",
       "      <td>0.0</td>\n",
       "      <td>6.842468e-01</td>\n",
       "      <td>8.067255e-01</td>\n",
       "      <td>8.460906e-01</td>\n",
       "      <td>-4.110581e-02</td>\n",
       "      <td>-2.758549e-02</td>\n",
       "      <td>1.085584e+00</td>\n",
       "      <td>6.425350e-01</td>\n",
       "      <td>5.461500e-02</td>\n",
       "      <td>8.187441e-04</td>\n",
       "    </tr>\n",
       "    <tr>\n",
       "      <th>std</th>\n",
       "      <td>4.140721e+03</td>\n",
       "      <td>4.193664e+03</td>\n",
       "      <td>4.084723e+03</td>\n",
       "      <td>4.139025e+03</td>\n",
       "      <td>2.799596e+06</td>\n",
       "      <td>4.033189e+00</td>\n",
       "      <td>2.391120e+03</td>\n",
       "      <td>4.134573e+03</td>\n",
       "      <td>4.114109e+03</td>\n",
       "      <td>4.066250e+03</td>\n",
       "      <td>...</td>\n",
       "      <td>0.0</td>\n",
       "      <td>6.123282e+01</td>\n",
       "      <td>2.650196e+01</td>\n",
       "      <td>1.613015e+01</td>\n",
       "      <td>1.735924e+01</td>\n",
       "      <td>1.126539e+01</td>\n",
       "      <td>5.697932e+01</td>\n",
       "      <td>5.141582e+01</td>\n",
       "      <td>7.241444e+00</td>\n",
       "      <td>2.397462e-02</td>\n",
       "    </tr>\n",
       "    <tr>\n",
       "      <th>min</th>\n",
       "      <td>1.500000e+01</td>\n",
       "      <td>1.500000e+01</td>\n",
       "      <td>1.400000e+01</td>\n",
       "      <td>1.400000e+01</td>\n",
       "      <td>0.000000e+00</td>\n",
       "      <td>0.000000e+00</td>\n",
       "      <td>1.301000e+03</td>\n",
       "      <td>1.520000e+01</td>\n",
       "      <td>1.650000e+01</td>\n",
       "      <td>1.650000e+01</td>\n",
       "      <td>...</td>\n",
       "      <td>0.0</td>\n",
       "      <td>-4.822000e+03</td>\n",
       "      <td>-1.176000e+03</td>\n",
       "      <td>-7.360000e+02</td>\n",
       "      <td>-1.759233e+03</td>\n",
       "      <td>-8.036372e+02</td>\n",
       "      <td>-8.483252e+03</td>\n",
       "      <td>-6.836779e+03</td>\n",
       "      <td>-1.000000e+02</td>\n",
       "      <td>-5.249042e-01</td>\n",
       "    </tr>\n",
       "    <tr>\n",
       "      <th>25%</th>\n",
       "      <td>1.012000e+03</td>\n",
       "      <td>1.025000e+03</td>\n",
       "      <td>1.000000e+03</td>\n",
       "      <td>1.012000e+03</td>\n",
       "      <td>3.240000e+04</td>\n",
       "      <td>0.000000e+00</td>\n",
       "      <td>3.915000e+03</td>\n",
       "      <td>1.012200e+03</td>\n",
       "      <td>1.010560e+03</td>\n",
       "      <td>1.006387e+03</td>\n",
       "      <td>...</td>\n",
       "      <td>0.0</td>\n",
       "      <td>-7.800000e+00</td>\n",
       "      <td>-3.080000e+00</td>\n",
       "      <td>-1.486486e+00</td>\n",
       "      <td>-2.285787e+00</td>\n",
       "      <td>-1.491373e+00</td>\n",
       "      <td>-3.864908e+00</td>\n",
       "      <td>-3.592867e+00</td>\n",
       "      <td>-4.021650e+00</td>\n",
       "      <td>-1.138952e-02</td>\n",
       "    </tr>\n",
       "    <tr>\n",
       "      <th>50%</th>\n",
       "      <td>1.800000e+03</td>\n",
       "      <td>1.822000e+03</td>\n",
       "      <td>1.776000e+03</td>\n",
       "      <td>1.800000e+03</td>\n",
       "      <td>1.030000e+05</td>\n",
       "      <td>0.000000e+00</td>\n",
       "      <td>6.201000e+03</td>\n",
       "      <td>1.799000e+03</td>\n",
       "      <td>1.793760e+03</td>\n",
       "      <td>1.785757e+03</td>\n",
       "      <td>...</td>\n",
       "      <td>0.0</td>\n",
       "      <td>2.000000e-01</td>\n",
       "      <td>2.750000e-01</td>\n",
       "      <td>2.933333e-01</td>\n",
       "      <td>3.716183e-02</td>\n",
       "      <td>6.267681e-02</td>\n",
       "      <td>1.303729e-02</td>\n",
       "      <td>1.142375e-01</td>\n",
       "      <td>0.000000e+00</td>\n",
       "      <td>0.000000e+00</td>\n",
       "    </tr>\n",
       "    <tr>\n",
       "      <th>75%</th>\n",
       "      <td>3.020000e+03</td>\n",
       "      <td>3.060000e+03</td>\n",
       "      <td>2.983000e+03</td>\n",
       "      <td>3.020000e+03</td>\n",
       "      <td>3.808000e+05</td>\n",
       "      <td>0.000000e+00</td>\n",
       "      <td>7.943000e+03</td>\n",
       "      <td>3.019000e+03</td>\n",
       "      <td>3.016440e+03</td>\n",
       "      <td>3.005040e+03</td>\n",
       "      <td>...</td>\n",
       "      <td>0.0</td>\n",
       "      <td>9.000000e+00</td>\n",
       "      <td>4.400000e+00</td>\n",
       "      <td>2.826503e+00</td>\n",
       "      <td>2.415290e+00</td>\n",
       "      <td>1.613592e+00</td>\n",
       "      <td>4.717996e+00</td>\n",
       "      <td>4.706889e+00</td>\n",
       "      <td>4.023756e+00</td>\n",
       "      <td>1.187335e-02</td>\n",
       "    </tr>\n",
       "    <tr>\n",
       "      <th>max</th>\n",
       "      <td>1.099500e+05</td>\n",
       "      <td>1.105000e+05</td>\n",
       "      <td>1.072000e+05</td>\n",
       "      <td>1.095500e+05</td>\n",
       "      <td>3.333562e+08</td>\n",
       "      <td>1.080000e+03</td>\n",
       "      <td>9.997000e+03</td>\n",
       "      <td>1.068600e+05</td>\n",
       "      <td>9.999720e+04</td>\n",
       "      <td>9.347413e+04</td>\n",
       "      <td>...</td>\n",
       "      <td>0.0</td>\n",
       "      <td>5.260000e+03</td>\n",
       "      <td>1.740000e+03</td>\n",
       "      <td>1.500659e+03</td>\n",
       "      <td>1.772074e+03</td>\n",
       "      <td>6.628093e+02</td>\n",
       "      <td>6.452478e+03</td>\n",
       "      <td>6.690052e+03</td>\n",
       "      <td>1.000000e+02</td>\n",
       "      <td>6.182380e-01</td>\n",
       "    </tr>\n",
       "  </tbody>\n",
       "</table>\n",
       "<p>8 rows × 31 columns</p>\n",
       "</div>"
      ],
      "text/plain": [
       "               Open          High           Low         Close        Volume  \\\n",
       "count  1.088589e+06  1.088589e+06  1.088589e+06  1.088589e+06  1.088589e+06   \n",
       "mean   2.690890e+03  2.725683e+03  2.653543e+03  2.689580e+03  6.275229e+05   \n",
       "std    4.140721e+03  4.193664e+03  4.084723e+03  4.139025e+03  2.799596e+06   \n",
       "min    1.500000e+01  1.500000e+01  1.400000e+01  1.400000e+01  0.000000e+00   \n",
       "25%    1.012000e+03  1.025000e+03  1.000000e+03  1.012000e+03  3.240000e+04   \n",
       "50%    1.800000e+03  1.822000e+03  1.776000e+03  1.800000e+03  1.030000e+05   \n",
       "75%    3.020000e+03  3.060000e+03  2.983000e+03  3.020000e+03  3.808000e+05   \n",
       "max    1.099500e+05  1.105000e+05  1.072000e+05  1.095500e+05  3.333562e+08   \n",
       "\n",
       "       ExpectedDividend  SecuritiesCode_int      MA_5days     MA_25days  \\\n",
       "count      1.088589e+06        1.088589e+06  1.088589e+06  1.088589e+06   \n",
       "mean       1.796051e-01        5.884955e+03  2.688090e+03  2.680752e+03   \n",
       "std        4.033189e+00        2.391120e+03  4.134573e+03  4.114109e+03   \n",
       "min        0.000000e+00        1.301000e+03  1.520000e+01  1.650000e+01   \n",
       "25%        0.000000e+00        3.915000e+03  1.012200e+03  1.010560e+03   \n",
       "50%        0.000000e+00        6.201000e+03  1.799000e+03  1.793760e+03   \n",
       "75%        0.000000e+00        7.943000e+03  3.019000e+03  3.016440e+03   \n",
       "max        1.080000e+03        9.997000e+03  1.068600e+05  9.999720e+04   \n",
       "\n",
       "          MA_75days  ...  SecuritiesCode_int_diff  MA_5days_diff  \\\n",
       "count  1.088589e+06  ...                1088589.0   1.088589e+06   \n",
       "mean   2.666994e+03  ...                      0.0   6.842468e-01   \n",
       "std    4.066250e+03  ...                      0.0   6.123282e+01   \n",
       "min    1.650000e+01  ...                      0.0  -4.822000e+03   \n",
       "25%    1.006387e+03  ...                      0.0  -7.800000e+00   \n",
       "50%    1.785757e+03  ...                      0.0   2.000000e-01   \n",
       "75%    3.005040e+03  ...                      0.0   9.000000e+00   \n",
       "max    9.347413e+04  ...                      0.0   5.260000e+03   \n",
       "\n",
       "       MA_25days_diff  MA_75days_diff     MACD_diff   Signal_diff  \\\n",
       "count    1.088589e+06    1.088589e+06  1.088589e+06  1.088589e+06   \n",
       "mean     8.067255e-01    8.460906e-01 -4.110581e-02 -2.758549e-02   \n",
       "std      2.650196e+01    1.613015e+01  1.735924e+01  1.126539e+01   \n",
       "min     -1.176000e+03   -7.360000e+02 -1.759233e+03 -8.036372e+02   \n",
       "25%     -3.080000e+00   -1.486486e+00 -2.285787e+00 -1.491373e+00   \n",
       "50%      2.750000e-01    2.933333e-01  3.716183e-02  6.267681e-02   \n",
       "75%      4.400000e+00    2.826503e+00  2.415290e+00  1.613592e+00   \n",
       "max      1.740000e+03    1.500659e+03  1.772074e+03  6.628093e+02   \n",
       "\n",
       "       Bollinger_band_upper_diff  Bollinger_band_lower_diff      RSI_diff  \\\n",
       "count               1.088589e+06               1.088589e+06  1.088589e+06   \n",
       "mean                1.085584e+00               6.425350e-01  5.461500e-02   \n",
       "std                 5.697932e+01               5.141582e+01  7.241444e+00   \n",
       "min                -8.483252e+03              -6.836779e+03 -1.000000e+02   \n",
       "25%                -3.864908e+00              -3.592867e+00 -4.021650e+00   \n",
       "50%                 1.303729e-02               1.142375e-01  0.000000e+00   \n",
       "75%                 4.717996e+00               4.706889e+00  4.023756e+00   \n",
       "max                 6.452478e+03               6.690052e+03  1.000000e+02   \n",
       "\n",
       "             Target  \n",
       "count  1.088589e+06  \n",
       "mean   8.187441e-04  \n",
       "std    2.397462e-02  \n",
       "min   -5.249042e-01  \n",
       "25%   -1.138952e-02  \n",
       "50%    0.000000e+00  \n",
       "75%    1.187335e-02  \n",
       "max    6.182380e-01  \n",
       "\n",
       "[8 rows x 31 columns]"
      ]
     },
     "execution_count": 11,
     "metadata": {},
     "output_type": "execute_result"
    }
   ],
   "source": [
    "stock_prices_proced_df.describe()"
   ]
  },
  {
   "cell_type": "code",
   "execution_count": 12,
   "id": "9431f309",
   "metadata": {
    "execution": {
     "iopub.execute_input": "2022-07-04T14:30:30.091524Z",
     "iopub.status.busy": "2022-07-04T14:30:30.091227Z",
     "iopub.status.idle": "2022-07-04T14:30:31.241808Z",
     "shell.execute_reply": "2022-07-04T14:30:31.239475Z"
    },
    "papermill": {
     "duration": 1.791905,
     "end_time": "2022-07-04T14:30:31.244232",
     "exception": false,
     "start_time": "2022-07-04T14:30:29.452327",
     "status": "completed"
    },
    "tags": []
   },
   "outputs": [
    {
     "data": {
      "text/plain": [
       "Index(['Open', 'High', 'Low', 'Close', 'Volume', 'ExpectedDividend',\n",
       "       'SecuritiesCode_int', 'MA_5days', 'MA_25days', 'MA_75days', 'MACD',\n",
       "       'Signal', 'Bollinger_band_upper', 'Bollinger_band_lower', 'RSI',\n",
       "       'Open_diff', 'High_diff', 'Low_diff', 'Close_diff', 'Volume_diff',\n",
       "       'ExpectedDividend_diff', 'SecuritiesCode_int_diff', 'MA_5days_diff',\n",
       "       'MA_25days_diff', 'MA_75days_diff', 'MACD_diff', 'Signal_diff',\n",
       "       'Bollinger_band_upper_diff', 'Bollinger_band_lower_diff', 'RSI_diff',\n",
       "       'Target'],\n",
       "      dtype='object')"
      ]
     },
     "execution_count": 12,
     "metadata": {},
     "output_type": "execute_result"
    }
   ],
   "source": [
    "stock_prices_proced_df.describe().columns"
   ]
  },
  {
   "cell_type": "code",
   "execution_count": 13,
   "id": "37583e0f",
   "metadata": {
    "execution": {
     "iopub.execute_input": "2022-07-04T14:30:32.785586Z",
     "iopub.status.busy": "2022-07-04T14:30:32.785150Z",
     "iopub.status.idle": "2022-07-04T14:32:56.893703Z",
     "shell.execute_reply": "2022-07-04T14:32:56.892858Z"
    },
    "papermill": {
     "duration": 144.866904,
     "end_time": "2022-07-04T14:32:56.895864",
     "exception": false,
     "start_time": "2022-07-04T14:30:32.028960",
     "status": "completed"
    },
    "tags": []
   },
   "outputs": [
    {
     "name": "stderr",
     "output_type": "stream",
     "text": [
      "100%|██████████| 2000/2000 [02:20<00:00, 14.20it/s]\n"
     ]
    },
    {
     "data": {
      "text/html": [
       "<div>\n",
       "<style scoped>\n",
       "    .dataframe tbody tr th:only-of-type {\n",
       "        vertical-align: middle;\n",
       "    }\n",
       "\n",
       "    .dataframe tbody tr th {\n",
       "        vertical-align: top;\n",
       "    }\n",
       "\n",
       "    .dataframe thead th {\n",
       "        text-align: right;\n",
       "    }\n",
       "</style>\n",
       "<table border=\"1\" class=\"dataframe\">\n",
       "  <thead>\n",
       "    <tr style=\"text-align: right;\">\n",
       "      <th></th>\n",
       "      <th>RowId</th>\n",
       "      <th>Date</th>\n",
       "      <th>SecuritiesCode</th>\n",
       "      <th>Open</th>\n",
       "      <th>High</th>\n",
       "      <th>Low</th>\n",
       "      <th>Close</th>\n",
       "      <th>Volume</th>\n",
       "      <th>AdjustmentFactor</th>\n",
       "      <th>ExpectedDividend</th>\n",
       "      <th>...</th>\n",
       "      <th>SecuritiesCode_int_diff</th>\n",
       "      <th>MA_5days_diff</th>\n",
       "      <th>MA_25days_diff</th>\n",
       "      <th>MA_75days_diff</th>\n",
       "      <th>MACD_diff</th>\n",
       "      <th>Signal_diff</th>\n",
       "      <th>Bollinger_band_upper_diff</th>\n",
       "      <th>Bollinger_band_lower_diff</th>\n",
       "      <th>RSI_diff</th>\n",
       "      <th>Target</th>\n",
       "    </tr>\n",
       "  </thead>\n",
       "  <tbody>\n",
       "    <tr>\n",
       "      <th>0</th>\n",
       "      <td>20200401_1301</td>\n",
       "      <td>2020-04-01</td>\n",
       "      <td>1301</td>\n",
       "      <td>-2.077562</td>\n",
       "      <td>-1.970980</td>\n",
       "      <td>-2.073439</td>\n",
       "      <td>-2.071934</td>\n",
       "      <td>2.245799</td>\n",
       "      <td>-0.418367</td>\n",
       "      <td>-0.060499</td>\n",
       "      <td>...</td>\n",
       "      <td>0.0</td>\n",
       "      <td>-0.329406</td>\n",
       "      <td>-0.965131</td>\n",
       "      <td>-1.867629</td>\n",
       "      <td>-0.043854</td>\n",
       "      <td>-0.048844</td>\n",
       "      <td>-0.176678</td>\n",
       "      <td>-0.198617</td>\n",
       "      <td>-0.013380</td>\n",
       "      <td>-0.006369</td>\n",
       "    </tr>\n",
       "    <tr>\n",
       "      <th>1</th>\n",
       "      <td>20200402_1301</td>\n",
       "      <td>2020-04-02</td>\n",
       "      <td>1301</td>\n",
       "      <td>-2.305423</td>\n",
       "      <td>-2.052332</td>\n",
       "      <td>-2.311268</td>\n",
       "      <td>-2.094678</td>\n",
       "      <td>1.542452</td>\n",
       "      <td>-0.418367</td>\n",
       "      <td>-0.060499</td>\n",
       "      <td>...</td>\n",
       "      <td>0.0</td>\n",
       "      <td>-0.329406</td>\n",
       "      <td>-0.965131</td>\n",
       "      <td>-1.867629</td>\n",
       "      <td>-0.043854</td>\n",
       "      <td>-0.048844</td>\n",
       "      <td>-0.176678</td>\n",
       "      <td>-0.198617</td>\n",
       "      <td>-0.013380</td>\n",
       "      <td>0.003205</td>\n",
       "    </tr>\n",
       "    <tr>\n",
       "      <th>2</th>\n",
       "      <td>20200403_1301</td>\n",
       "      <td>2020-04-03</td>\n",
       "      <td>1301</td>\n",
       "      <td>-2.241621</td>\n",
       "      <td>-2.093008</td>\n",
       "      <td>-2.265531</td>\n",
       "      <td>-2.167458</td>\n",
       "      <td>0.748155</td>\n",
       "      <td>-0.418367</td>\n",
       "      <td>-0.060499</td>\n",
       "      <td>...</td>\n",
       "      <td>0.0</td>\n",
       "      <td>-0.623877</td>\n",
       "      <td>-1.840971</td>\n",
       "      <td>-3.595258</td>\n",
       "      <td>-0.159131</td>\n",
       "      <td>-0.132774</td>\n",
       "      <td>0.736462</td>\n",
       "      <td>-3.149829</td>\n",
       "      <td>-0.013380</td>\n",
       "      <td>0.020367</td>\n",
       "    </tr>\n",
       "    <tr>\n",
       "      <th>3</th>\n",
       "      <td>20200406_1301</td>\n",
       "      <td>2020-04-06</td>\n",
       "      <td>1301</td>\n",
       "      <td>-2.382895</td>\n",
       "      <td>-2.106567</td>\n",
       "      <td>-2.292973</td>\n",
       "      <td>-2.131068</td>\n",
       "      <td>0.645079</td>\n",
       "      <td>-0.418367</td>\n",
       "      <td>-0.060499</td>\n",
       "      <td>...</td>\n",
       "      <td>0.0</td>\n",
       "      <td>-0.215632</td>\n",
       "      <td>-0.626738</td>\n",
       "      <td>-1.200136</td>\n",
       "      <td>0.005351</td>\n",
       "      <td>-0.063802</td>\n",
       "      <td>-0.658623</td>\n",
       "      <td>0.141742</td>\n",
       "      <td>3.819734</td>\n",
       "      <td>0.016438</td>\n",
       "    </tr>\n",
       "    <tr>\n",
       "      <th>4</th>\n",
       "      <td>20200407_1301</td>\n",
       "      <td>2020-04-07</td>\n",
       "      <td>1301</td>\n",
       "      <td>-1.927174</td>\n",
       "      <td>-1.957421</td>\n",
       "      <td>-2.087160</td>\n",
       "      <td>-1.899079</td>\n",
       "      <td>0.542002</td>\n",
       "      <td>-0.418367</td>\n",
       "      <td>-0.060499</td>\n",
       "      <td>...</td>\n",
       "      <td>0.0</td>\n",
       "      <td>0.638336</td>\n",
       "      <td>1.913200</td>\n",
       "      <td>3.809989</td>\n",
       "      <td>0.564557</td>\n",
       "      <td>0.252954</td>\n",
       "      <td>3.676057</td>\n",
       "      <td>-2.669847</td>\n",
       "      <td>6.401097</td>\n",
       "      <td>-0.016943</td>\n",
       "    </tr>\n",
       "  </tbody>\n",
       "</table>\n",
       "<p>5 rows × 37 columns</p>\n",
       "</div>"
      ],
      "text/plain": [
       "           RowId       Date SecuritiesCode      Open      High       Low  \\\n",
       "0  20200401_1301 2020-04-01           1301 -2.077562 -1.970980 -2.073439   \n",
       "1  20200402_1301 2020-04-02           1301 -2.305423 -2.052332 -2.311268   \n",
       "2  20200403_1301 2020-04-03           1301 -2.241621 -2.093008 -2.265531   \n",
       "3  20200406_1301 2020-04-06           1301 -2.382895 -2.106567 -2.292973   \n",
       "4  20200407_1301 2020-04-07           1301 -1.927174 -1.957421 -2.087160   \n",
       "\n",
       "      Close    Volume  AdjustmentFactor  ExpectedDividend  ...  \\\n",
       "0 -2.071934  2.245799         -0.418367         -0.060499  ...   \n",
       "1 -2.094678  1.542452         -0.418367         -0.060499  ...   \n",
       "2 -2.167458  0.748155         -0.418367         -0.060499  ...   \n",
       "3 -2.131068  0.645079         -0.418367         -0.060499  ...   \n",
       "4 -1.899079  0.542002         -0.418367         -0.060499  ...   \n",
       "\n",
       "   SecuritiesCode_int_diff  MA_5days_diff  MA_25days_diff  MA_75days_diff  \\\n",
       "0                      0.0      -0.329406       -0.965131       -1.867629   \n",
       "1                      0.0      -0.329406       -0.965131       -1.867629   \n",
       "2                      0.0      -0.623877       -1.840971       -3.595258   \n",
       "3                      0.0      -0.215632       -0.626738       -1.200136   \n",
       "4                      0.0       0.638336        1.913200        3.809989   \n",
       "\n",
       "   MACD_diff  Signal_diff  Bollinger_band_upper_diff  \\\n",
       "0  -0.043854    -0.048844                  -0.176678   \n",
       "1  -0.043854    -0.048844                  -0.176678   \n",
       "2  -0.159131    -0.132774                   0.736462   \n",
       "3   0.005351    -0.063802                  -0.658623   \n",
       "4   0.564557     0.252954                   3.676057   \n",
       "\n",
       "   Bollinger_band_lower_diff  RSI_diff    Target  \n",
       "0                  -0.198617 -0.013380 -0.006369  \n",
       "1                  -0.198617 -0.013380  0.003205  \n",
       "2                  -3.149829 -0.013380  0.020367  \n",
       "3                   0.141742  3.819734  0.016438  \n",
       "4                  -2.669847  6.401097 -0.016943  \n",
       "\n",
       "[5 rows x 37 columns]"
      ]
     },
     "execution_count": 13,
     "metadata": {},
     "output_type": "execute_result"
    }
   ],
   "source": [
    "from sklearn.preprocessing import RobustScaler, StandardScaler, MinMaxScaler\n",
    "\n",
    "code2robustsc = {}\n",
    "code2stdsc = {}\n",
    "\n",
    "catsc = MinMaxScaler(feature_range=[-0.5, 0.5])\n",
    "categorical_columns = ['AdjustmentFactor', 'SecuritiesCode_int', 'SupervisionFlag', 'Month']\n",
    "stock_prices_proced_df.loc[:, categorical_columns] = catsc.fit_transform(stock_prices_proced_df[categorical_columns])\n",
    "\n",
    "for code, data in tqdm(stock_prices_proced_df.groupby('SecuritiesCode')):\n",
    "    robustsc = RobustScaler(quantile_range=[0.25, 0.75], unit_variance=True)\n",
    "    stdsc = StandardScaler()\n",
    "    columns = stock_prices_proced_df.columns.drop(['RowId','SecuritiesCode', 'Date','Target'] + categorical_columns)\n",
    "    #columns = stock_prices_proced_df.columns.drop(['RowId','SecuritiesCode', 'Date','Target'])\n",
    "    value = robustsc.fit_transform(stock_prices_proced_df[stock_prices_proced_df.SecuritiesCode == code][columns])\n",
    "    value = stdsc.fit_transform(value)\n",
    "    stock_prices_proced_df.loc[stock_prices_proced_df.SecuritiesCode == code, columns] = value\n",
    "    code2robustsc[code] = robustsc\n",
    "    code2stdsc[code] = stdsc\n",
    "    \n",
    "stock_prices_proced_df.head()"
   ]
  },
  {
   "cell_type": "code",
   "execution_count": 14,
   "id": "0cf3c833",
   "metadata": {
    "execution": {
     "iopub.execute_input": "2022-07-04T14:32:58.884166Z",
     "iopub.status.busy": "2022-07-04T14:32:58.883623Z",
     "iopub.status.idle": "2022-07-04T14:32:59.913893Z",
     "shell.execute_reply": "2022-07-04T14:32:59.913213Z"
    },
    "papermill": {
     "duration": 1.970884,
     "end_time": "2022-07-04T14:32:59.915662",
     "exception": false,
     "start_time": "2022-07-04T14:32:57.944778",
     "status": "completed"
    },
    "tags": []
   },
   "outputs": [
    {
     "data": {
      "text/html": [
       "<div>\n",
       "<style scoped>\n",
       "    .dataframe tbody tr th:only-of-type {\n",
       "        vertical-align: middle;\n",
       "    }\n",
       "\n",
       "    .dataframe tbody tr th {\n",
       "        vertical-align: top;\n",
       "    }\n",
       "\n",
       "    .dataframe thead th {\n",
       "        text-align: right;\n",
       "    }\n",
       "</style>\n",
       "<table border=\"1\" class=\"dataframe\">\n",
       "  <thead>\n",
       "    <tr style=\"text-align: right;\">\n",
       "      <th></th>\n",
       "      <th>Open</th>\n",
       "      <th>High</th>\n",
       "      <th>Low</th>\n",
       "      <th>Close</th>\n",
       "      <th>Volume</th>\n",
       "      <th>AdjustmentFactor</th>\n",
       "      <th>ExpectedDividend</th>\n",
       "      <th>SupervisionFlag</th>\n",
       "      <th>Month</th>\n",
       "      <th>SecuritiesCode_int</th>\n",
       "      <th>...</th>\n",
       "      <th>SecuritiesCode_int_diff</th>\n",
       "      <th>MA_5days_diff</th>\n",
       "      <th>MA_25days_diff</th>\n",
       "      <th>MA_75days_diff</th>\n",
       "      <th>MACD_diff</th>\n",
       "      <th>Signal_diff</th>\n",
       "      <th>Bollinger_band_upper_diff</th>\n",
       "      <th>Bollinger_band_lower_diff</th>\n",
       "      <th>RSI_diff</th>\n",
       "      <th>Target</th>\n",
       "    </tr>\n",
       "  </thead>\n",
       "  <tbody>\n",
       "    <tr>\n",
       "      <th>count</th>\n",
       "      <td>1.088589e+06</td>\n",
       "      <td>1.088589e+06</td>\n",
       "      <td>1.088589e+06</td>\n",
       "      <td>1.088589e+06</td>\n",
       "      <td>1.088589e+06</td>\n",
       "      <td>1.088589e+06</td>\n",
       "      <td>1.088589e+06</td>\n",
       "      <td>1.088589e+06</td>\n",
       "      <td>1.088589e+06</td>\n",
       "      <td>1.088589e+06</td>\n",
       "      <td>...</td>\n",
       "      <td>1088589.0</td>\n",
       "      <td>1.088589e+06</td>\n",
       "      <td>1.088589e+06</td>\n",
       "      <td>1.088589e+06</td>\n",
       "      <td>1.088589e+06</td>\n",
       "      <td>1.088589e+06</td>\n",
       "      <td>1.088589e+06</td>\n",
       "      <td>1.088589e+06</td>\n",
       "      <td>1.088589e+06</td>\n",
       "      <td>1.088589e+06</td>\n",
       "    </tr>\n",
       "    <tr>\n",
       "      <th>mean</th>\n",
       "      <td>-4.205110e-10</td>\n",
       "      <td>8.830732e-10</td>\n",
       "      <td>1.822214e-10</td>\n",
       "      <td>2.943577e-10</td>\n",
       "      <td>-4.029897e-10</td>\n",
       "      <td>-4.183697e-01</td>\n",
       "      <td>3.905715e-09</td>\n",
       "      <td>-4.991117e-01</td>\n",
       "      <td>-7.964480e-03</td>\n",
       "      <td>2.713362e-02</td>\n",
       "      <td>...</td>\n",
       "      <td>0.0</td>\n",
       "      <td>-1.138884e-10</td>\n",
       "      <td>-5.256388e-11</td>\n",
       "      <td>-2.838449e-10</td>\n",
       "      <td>-9.286285e-11</td>\n",
       "      <td>-1.401703e-10</td>\n",
       "      <td>1.226490e-10</td>\n",
       "      <td>1.357900e-10</td>\n",
       "      <td>3.539301e-10</td>\n",
       "      <td>8.187441e-04</td>\n",
       "    </tr>\n",
       "    <tr>\n",
       "      <th>std</th>\n",
       "      <td>1.000000e+00</td>\n",
       "      <td>1.000000e+00</td>\n",
       "      <td>1.000000e+00</td>\n",
       "      <td>1.000000e+00</td>\n",
       "      <td>1.000000e+00</td>\n",
       "      <td>2.146136e-03</td>\n",
       "      <td>9.619980e-01</td>\n",
       "      <td>2.979123e-02</td>\n",
       "      <td>3.004091e-01</td>\n",
       "      <td>2.749678e-01</td>\n",
       "      <td>...</td>\n",
       "      <td>0.0</td>\n",
       "      <td>1.000000e+00</td>\n",
       "      <td>1.000000e+00</td>\n",
       "      <td>1.000000e+00</td>\n",
       "      <td>1.000000e+00</td>\n",
       "      <td>1.000000e+00</td>\n",
       "      <td>1.000000e+00</td>\n",
       "      <td>1.000000e+00</td>\n",
       "      <td>1.000000e+00</td>\n",
       "      <td>2.397462e-02</td>\n",
       "    </tr>\n",
       "    <tr>\n",
       "      <th>min</th>\n",
       "      <td>-1.209774e+01</td>\n",
       "      <td>-1.234076e+01</td>\n",
       "      <td>-1.200800e+01</td>\n",
       "      <td>-1.229264e+01</td>\n",
       "      <td>-2.815017e+00</td>\n",
       "      <td>-5.000000e-01</td>\n",
       "      <td>-1.219421e-01</td>\n",
       "      <td>-5.000000e-01</td>\n",
       "      <td>-5.000000e-01</td>\n",
       "      <td>-5.000000e-01</td>\n",
       "      <td>...</td>\n",
       "      <td>0.0</td>\n",
       "      <td>-1.252078e+01</td>\n",
       "      <td>-1.361871e+01</td>\n",
       "      <td>-1.597720e+01</td>\n",
       "      <td>-1.434562e+01</td>\n",
       "      <td>-8.315035e+00</td>\n",
       "      <td>-1.745269e+01</td>\n",
       "      <td>-1.950581e+01</td>\n",
       "      <td>-1.200140e+01</td>\n",
       "      <td>-5.249042e-01</td>\n",
       "    </tr>\n",
       "    <tr>\n",
       "      <th>25%</th>\n",
       "      <td>-7.575684e-01</td>\n",
       "      <td>-7.592817e-01</td>\n",
       "      <td>-7.564673e-01</td>\n",
       "      <td>-7.578545e-01</td>\n",
       "      <td>-5.216084e-01</td>\n",
       "      <td>-4.183673e-01</td>\n",
       "      <td>-8.568364e-02</td>\n",
       "      <td>-5.000000e-01</td>\n",
       "      <td>-2.272727e-01</td>\n",
       "      <td>-1.994020e-01</td>\n",
       "      <td>...</td>\n",
       "      <td>0.0</td>\n",
       "      <td>-5.263193e-01</td>\n",
       "      <td>-5.543464e-01</td>\n",
       "      <td>-5.291045e-01</td>\n",
       "      <td>-5.149607e-01</td>\n",
       "      <td>-5.398946e-01</td>\n",
       "      <td>-3.737924e-01</td>\n",
       "      <td>-3.690741e-01</td>\n",
       "      <td>-5.681202e-01</td>\n",
       "      <td>-1.138952e-02</td>\n",
       "    </tr>\n",
       "    <tr>\n",
       "      <th>50%</th>\n",
       "      <td>-9.038254e-03</td>\n",
       "      <td>-1.376655e-02</td>\n",
       "      <td>-2.617173e-03</td>\n",
       "      <td>-9.441175e-03</td>\n",
       "      <td>-2.364997e-01</td>\n",
       "      <td>-4.183673e-01</td>\n",
       "      <td>-8.187739e-02</td>\n",
       "      <td>-5.000000e-01</td>\n",
       "      <td>-4.545455e-02</td>\n",
       "      <td>6.347746e-02</td>\n",
       "      <td>...</td>\n",
       "      <td>0.0</td>\n",
       "      <td>-8.020247e-03</td>\n",
       "      <td>-1.019006e-02</td>\n",
       "      <td>-1.453420e-02</td>\n",
       "      <td>1.311874e-02</td>\n",
       "      <td>2.996466e-02</td>\n",
       "      <td>-3.998606e-02</td>\n",
       "      <td>-1.652048e-02</td>\n",
       "      <td>-8.572795e-03</td>\n",
       "      <td>0.000000e+00</td>\n",
       "    </tr>\n",
       "    <tr>\n",
       "      <th>75%</th>\n",
       "      <td>7.188737e-01</td>\n",
       "      <td>7.173188e-01</td>\n",
       "      <td>7.222195e-01</td>\n",
       "      <td>7.187108e-01</td>\n",
       "      <td>2.142898e-01</td>\n",
       "      <td>-4.183673e-01</td>\n",
       "      <td>-6.055993e-02</td>\n",
       "      <td>-5.000000e-01</td>\n",
       "      <td>2.272727e-01</td>\n",
       "      <td>2.637994e-01</td>\n",
       "      <td>...</td>\n",
       "      <td>0.0</td>\n",
       "      <td>5.263638e-01</td>\n",
       "      <td>5.518146e-01</td>\n",
       "      <td>5.240677e-01</td>\n",
       "      <td>5.409962e-01</td>\n",
       "      <td>5.720488e-01</td>\n",
       "      <td>3.196820e-01</td>\n",
       "      <td>3.677750e-01</td>\n",
       "      <td>5.532297e-01</td>\n",
       "      <td>1.187335e-02</td>\n",
       "    </tr>\n",
       "    <tr>\n",
       "      <th>max</th>\n",
       "      <td>1.977772e+01</td>\n",
       "      <td>1.974047e+01</td>\n",
       "      <td>1.976860e+01</td>\n",
       "      <td>1.972392e+01</td>\n",
       "      <td>2.261442e+01</td>\n",
       "      <td>5.000000e-01</td>\n",
       "      <td>2.334524e+01</td>\n",
       "      <td>5.000000e-01</td>\n",
       "      <td>5.000000e-01</td>\n",
       "      <td>5.000000e-01</td>\n",
       "      <td>...</td>\n",
       "      <td>0.0</td>\n",
       "      <td>1.217413e+01</td>\n",
       "      <td>1.209318e+01</td>\n",
       "      <td>1.753051e+01</td>\n",
       "      <td>1.448876e+01</td>\n",
       "      <td>9.131392e+00</td>\n",
       "      <td>1.955593e+01</td>\n",
       "      <td>1.664135e+01</td>\n",
       "      <td>1.236550e+01</td>\n",
       "      <td>6.182380e-01</td>\n",
       "    </tr>\n",
       "  </tbody>\n",
       "</table>\n",
       "<p>8 rows × 34 columns</p>\n",
       "</div>"
      ],
      "text/plain": [
       "               Open          High           Low         Close        Volume  \\\n",
       "count  1.088589e+06  1.088589e+06  1.088589e+06  1.088589e+06  1.088589e+06   \n",
       "mean  -4.205110e-10  8.830732e-10  1.822214e-10  2.943577e-10 -4.029897e-10   \n",
       "std    1.000000e+00  1.000000e+00  1.000000e+00  1.000000e+00  1.000000e+00   \n",
       "min   -1.209774e+01 -1.234076e+01 -1.200800e+01 -1.229264e+01 -2.815017e+00   \n",
       "25%   -7.575684e-01 -7.592817e-01 -7.564673e-01 -7.578545e-01 -5.216084e-01   \n",
       "50%   -9.038254e-03 -1.376655e-02 -2.617173e-03 -9.441175e-03 -2.364997e-01   \n",
       "75%    7.188737e-01  7.173188e-01  7.222195e-01  7.187108e-01  2.142898e-01   \n",
       "max    1.977772e+01  1.974047e+01  1.976860e+01  1.972392e+01  2.261442e+01   \n",
       "\n",
       "       AdjustmentFactor  ExpectedDividend  SupervisionFlag         Month  \\\n",
       "count      1.088589e+06      1.088589e+06     1.088589e+06  1.088589e+06   \n",
       "mean      -4.183697e-01      3.905715e-09    -4.991117e-01 -7.964480e-03   \n",
       "std        2.146136e-03      9.619980e-01     2.979123e-02  3.004091e-01   \n",
       "min       -5.000000e-01     -1.219421e-01    -5.000000e-01 -5.000000e-01   \n",
       "25%       -4.183673e-01     -8.568364e-02    -5.000000e-01 -2.272727e-01   \n",
       "50%       -4.183673e-01     -8.187739e-02    -5.000000e-01 -4.545455e-02   \n",
       "75%       -4.183673e-01     -6.055993e-02    -5.000000e-01  2.272727e-01   \n",
       "max        5.000000e-01      2.334524e+01     5.000000e-01  5.000000e-01   \n",
       "\n",
       "       SecuritiesCode_int  ...  SecuritiesCode_int_diff  MA_5days_diff  \\\n",
       "count        1.088589e+06  ...                1088589.0   1.088589e+06   \n",
       "mean         2.713362e-02  ...                      0.0  -1.138884e-10   \n",
       "std          2.749678e-01  ...                      0.0   1.000000e+00   \n",
       "min         -5.000000e-01  ...                      0.0  -1.252078e+01   \n",
       "25%         -1.994020e-01  ...                      0.0  -5.263193e-01   \n",
       "50%          6.347746e-02  ...                      0.0  -8.020247e-03   \n",
       "75%          2.637994e-01  ...                      0.0   5.263638e-01   \n",
       "max          5.000000e-01  ...                      0.0   1.217413e+01   \n",
       "\n",
       "       MA_25days_diff  MA_75days_diff     MACD_diff   Signal_diff  \\\n",
       "count    1.088589e+06    1.088589e+06  1.088589e+06  1.088589e+06   \n",
       "mean    -5.256388e-11   -2.838449e-10 -9.286285e-11 -1.401703e-10   \n",
       "std      1.000000e+00    1.000000e+00  1.000000e+00  1.000000e+00   \n",
       "min     -1.361871e+01   -1.597720e+01 -1.434562e+01 -8.315035e+00   \n",
       "25%     -5.543464e-01   -5.291045e-01 -5.149607e-01 -5.398946e-01   \n",
       "50%     -1.019006e-02   -1.453420e-02  1.311874e-02  2.996466e-02   \n",
       "75%      5.518146e-01    5.240677e-01  5.409962e-01  5.720488e-01   \n",
       "max      1.209318e+01    1.753051e+01  1.448876e+01  9.131392e+00   \n",
       "\n",
       "       Bollinger_band_upper_diff  Bollinger_band_lower_diff      RSI_diff  \\\n",
       "count               1.088589e+06               1.088589e+06  1.088589e+06   \n",
       "mean                1.226490e-10               1.357900e-10  3.539301e-10   \n",
       "std                 1.000000e+00               1.000000e+00  1.000000e+00   \n",
       "min                -1.745269e+01              -1.950581e+01 -1.200140e+01   \n",
       "25%                -3.737924e-01              -3.690741e-01 -5.681202e-01   \n",
       "50%                -3.998606e-02              -1.652048e-02 -8.572795e-03   \n",
       "75%                 3.196820e-01               3.677750e-01  5.532297e-01   \n",
       "max                 1.955593e+01               1.664135e+01  1.236550e+01   \n",
       "\n",
       "             Target  \n",
       "count  1.088589e+06  \n",
       "mean   8.187441e-04  \n",
       "std    2.397462e-02  \n",
       "min   -5.249042e-01  \n",
       "25%   -1.138952e-02  \n",
       "50%    0.000000e+00  \n",
       "75%    1.187335e-02  \n",
       "max    6.182380e-01  \n",
       "\n",
       "[8 rows x 34 columns]"
      ]
     },
     "execution_count": 14,
     "metadata": {},
     "output_type": "execute_result"
    }
   ],
   "source": [
    "stock_prices_proced_df.describe()"
   ]
  },
  {
   "cell_type": "code",
   "execution_count": 15,
   "id": "00d4eb96",
   "metadata": {
    "execution": {
     "iopub.execute_input": "2022-07-04T14:33:01.820057Z",
     "iopub.status.busy": "2022-07-04T14:33:01.819381Z",
     "iopub.status.idle": "2022-07-04T14:33:02.174869Z",
     "shell.execute_reply": "2022-07-04T14:33:02.174254Z"
    },
    "papermill": {
     "duration": 1.318788,
     "end_time": "2022-07-04T14:33:02.177165",
     "exception": false,
     "start_time": "2022-07-04T14:33:00.858377",
     "status": "completed"
    },
    "tags": []
   },
   "outputs": [
    {
     "data": {
      "text/plain": [
       "<matplotlib.legend.Legend at 0x7f6384d82c90>"
      ]
     },
     "execution_count": 15,
     "metadata": {},
     "output_type": "execute_result"
    },
    {
     "data": {
      "image/png": "[encoded data removed]",
      "text/plain": [
       "<Figure size 432x288 with 1 Axes>"
      ]
     },
     "metadata": {
      "needs_background": "light"
     },
     "output_type": "display_data"
    }
   ],
   "source": [
    "stock_prices_proced_df[stock_prices_proced_df.SecuritiesCode==1301].loc[:, columns].plot().legend(bbox_to_anchor=(1.05, 1), loc='upper left', borderaxespad=0)"
   ]
  },
  {
   "cell_type": "code",
   "execution_count": 16,
   "id": "bf8d3b4b",
   "metadata": {
    "execution": {
     "iopub.execute_input": "2022-07-04T14:33:04.119817Z",
     "iopub.status.busy": "2022-07-04T14:33:04.119558Z",
     "iopub.status.idle": "2022-07-04T14:33:04.447490Z",
     "shell.execute_reply": "2022-07-04T14:33:04.446799Z"
    },
    "papermill": {
     "duration": 1.323809,
     "end_time": "2022-07-04T14:33:04.449456",
     "exception": false,
     "start_time": "2022-07-04T14:33:03.125647",
     "status": "completed"
    },
    "tags": []
   },
   "outputs": [
    {
     "data": {
      "text/html": [
       "<div>\n",
       "<style scoped>\n",
       "    .dataframe tbody tr th:only-of-type {\n",
       "        vertical-align: middle;\n",
       "    }\n",
       "\n",
       "    .dataframe tbody tr th {\n",
       "        vertical-align: top;\n",
       "    }\n",
       "\n",
       "    .dataframe thead th {\n",
       "        text-align: right;\n",
       "    }\n",
       "</style>\n",
       "<table border=\"1\" class=\"dataframe\">\n",
       "  <thead>\n",
       "    <tr style=\"text-align: right;\">\n",
       "      <th></th>\n",
       "      <th>RowId</th>\n",
       "      <th>Date</th>\n",
       "      <th>SecuritiesCode</th>\n",
       "      <th>Open</th>\n",
       "      <th>High</th>\n",
       "      <th>Low</th>\n",
       "      <th>Close</th>\n",
       "      <th>Volume</th>\n",
       "      <th>AdjustmentFactor</th>\n",
       "      <th>ExpectedDividend</th>\n",
       "      <th>...</th>\n",
       "      <th>SecuritiesCode_int_diff</th>\n",
       "      <th>MA_5days_diff</th>\n",
       "      <th>MA_25days_diff</th>\n",
       "      <th>MA_75days_diff</th>\n",
       "      <th>MACD_diff</th>\n",
       "      <th>Signal_diff</th>\n",
       "      <th>Bollinger_band_upper_diff</th>\n",
       "      <th>Bollinger_band_lower_diff</th>\n",
       "      <th>RSI_diff</th>\n",
       "      <th>Target</th>\n",
       "    </tr>\n",
       "  </thead>\n",
       "  <tbody>\n",
       "    <tr>\n",
       "      <th>0</th>\n",
       "      <td>20200401_1301</td>\n",
       "      <td>2020-04-01</td>\n",
       "      <td>1301</td>\n",
       "      <td>-2.077562</td>\n",
       "      <td>-1.970980</td>\n",
       "      <td>-2.073439</td>\n",
       "      <td>-2.071934</td>\n",
       "      <td>2.245799</td>\n",
       "      <td>-0.418367</td>\n",
       "      <td>-0.060499</td>\n",
       "      <td>...</td>\n",
       "      <td>0.0</td>\n",
       "      <td>-0.329406</td>\n",
       "      <td>-0.965131</td>\n",
       "      <td>-1.867629</td>\n",
       "      <td>-0.043854</td>\n",
       "      <td>-0.048844</td>\n",
       "      <td>-0.176678</td>\n",
       "      <td>-0.198617</td>\n",
       "      <td>-0.013380</td>\n",
       "      <td>-0.006369</td>\n",
       "    </tr>\n",
       "    <tr>\n",
       "      <th>1</th>\n",
       "      <td>20200402_1301</td>\n",
       "      <td>2020-04-02</td>\n",
       "      <td>1301</td>\n",
       "      <td>-2.305423</td>\n",
       "      <td>-2.052332</td>\n",
       "      <td>-2.311268</td>\n",
       "      <td>-2.094678</td>\n",
       "      <td>1.542452</td>\n",
       "      <td>-0.418367</td>\n",
       "      <td>-0.060499</td>\n",
       "      <td>...</td>\n",
       "      <td>0.0</td>\n",
       "      <td>-0.329406</td>\n",
       "      <td>-0.965131</td>\n",
       "      <td>-1.867629</td>\n",
       "      <td>-0.043854</td>\n",
       "      <td>-0.048844</td>\n",
       "      <td>-0.176678</td>\n",
       "      <td>-0.198617</td>\n",
       "      <td>-0.013380</td>\n",
       "      <td>0.003205</td>\n",
       "    </tr>\n",
       "    <tr>\n",
       "      <th>2</th>\n",
       "      <td>20200403_1301</td>\n",
       "      <td>2020-04-03</td>\n",
       "      <td>1301</td>\n",
       "      <td>-2.241621</td>\n",
       "      <td>-2.093008</td>\n",
       "      <td>-2.265531</td>\n",
       "      <td>-2.167458</td>\n",
       "      <td>0.748155</td>\n",
       "      <td>-0.418367</td>\n",
       "      <td>-0.060499</td>\n",
       "      <td>...</td>\n",
       "      <td>0.0</td>\n",
       "      <td>-0.623877</td>\n",
       "      <td>-1.840971</td>\n",
       "      <td>-3.595258</td>\n",
       "      <td>-0.159131</td>\n",
       "      <td>-0.132774</td>\n",
       "      <td>0.736462</td>\n",
       "      <td>-3.149829</td>\n",
       "      <td>-0.013380</td>\n",
       "      <td>0.020367</td>\n",
       "    </tr>\n",
       "    <tr>\n",
       "      <th>3</th>\n",
       "      <td>20200406_1301</td>\n",
       "      <td>2020-04-06</td>\n",
       "      <td>1301</td>\n",
       "      <td>-2.382895</td>\n",
       "      <td>-2.106567</td>\n",
       "      <td>-2.292973</td>\n",
       "      <td>-2.131068</td>\n",
       "      <td>0.645079</td>\n",
       "      <td>-0.418367</td>\n",
       "      <td>-0.060499</td>\n",
       "      <td>...</td>\n",
       "      <td>0.0</td>\n",
       "      <td>-0.215632</td>\n",
       "      <td>-0.626738</td>\n",
       "      <td>-1.200136</td>\n",
       "      <td>0.005351</td>\n",
       "      <td>-0.063802</td>\n",
       "      <td>-0.658623</td>\n",
       "      <td>0.141742</td>\n",
       "      <td>3.819734</td>\n",
       "      <td>0.016438</td>\n",
       "    </tr>\n",
       "    <tr>\n",
       "      <th>4</th>\n",
       "      <td>20200407_1301</td>\n",
       "      <td>2020-04-07</td>\n",
       "      <td>1301</td>\n",
       "      <td>-1.927174</td>\n",
       "      <td>-1.957421</td>\n",
       "      <td>-2.087160</td>\n",
       "      <td>-1.899079</td>\n",
       "      <td>0.542002</td>\n",
       "      <td>-0.418367</td>\n",
       "      <td>-0.060499</td>\n",
       "      <td>...</td>\n",
       "      <td>0.0</td>\n",
       "      <td>0.638336</td>\n",
       "      <td>1.913200</td>\n",
       "      <td>3.809989</td>\n",
       "      <td>0.564557</td>\n",
       "      <td>0.252954</td>\n",
       "      <td>3.676057</td>\n",
       "      <td>-2.669847</td>\n",
       "      <td>6.401097</td>\n",
       "      <td>-0.016943</td>\n",
       "    </tr>\n",
       "    <tr>\n",
       "      <th>...</th>\n",
       "      <td>...</td>\n",
       "      <td>...</td>\n",
       "      <td>...</td>\n",
       "      <td>...</td>\n",
       "      <td>...</td>\n",
       "      <td>...</td>\n",
       "      <td>...</td>\n",
       "      <td>...</td>\n",
       "      <td>...</td>\n",
       "      <td>...</td>\n",
       "      <td>...</td>\n",
       "      <td>...</td>\n",
       "      <td>...</td>\n",
       "      <td>...</td>\n",
       "      <td>...</td>\n",
       "      <td>...</td>\n",
       "      <td>...</td>\n",
       "      <td>...</td>\n",
       "      <td>...</td>\n",
       "      <td>...</td>\n",
       "      <td>...</td>\n",
       "    </tr>\n",
       "    <tr>\n",
       "      <th>1088584</th>\n",
       "      <td>20220620_4169</td>\n",
       "      <td>2022-06-20</td>\n",
       "      <td>4169</td>\n",
       "      <td>-1.073720</td>\n",
       "      <td>-1.032769</td>\n",
       "      <td>-1.074121</td>\n",
       "      <td>-1.027399</td>\n",
       "      <td>3.409931</td>\n",
       "      <td>-0.418367</td>\n",
       "      <td>0.000000</td>\n",
       "      <td>...</td>\n",
       "      <td>0.0</td>\n",
       "      <td>0.292572</td>\n",
       "      <td>0.202757</td>\n",
       "      <td>0.044325</td>\n",
       "      <td>0.275075</td>\n",
       "      <td>0.203014</td>\n",
       "      <td>0.258427</td>\n",
       "      <td>-0.075718</td>\n",
       "      <td>1.100700</td>\n",
       "      <td>0.180058</td>\n",
       "    </tr>\n",
       "    <tr>\n",
       "      <th>1088585</th>\n",
       "      <td>20220621_4169</td>\n",
       "      <td>2022-06-21</td>\n",
       "      <td>4169</td>\n",
       "      <td>-1.002376</td>\n",
       "      <td>-0.962337</td>\n",
       "      <td>-0.992813</td>\n",
       "      <td>-0.949386</td>\n",
       "      <td>5.537711</td>\n",
       "      <td>-0.418367</td>\n",
       "      <td>0.000000</td>\n",
       "      <td>...</td>\n",
       "      <td>0.0</td>\n",
       "      <td>0.484561</td>\n",
       "      <td>0.295873</td>\n",
       "      <td>0.055767</td>\n",
       "      <td>0.508479</td>\n",
       "      <td>0.313429</td>\n",
       "      <td>0.466670</td>\n",
       "      <td>-0.241691</td>\n",
       "      <td>1.316251</td>\n",
       "      <td>-0.114028</td>\n",
       "    </tr>\n",
       "    <tr>\n",
       "      <th>1088586</th>\n",
       "      <td>20220622_4169</td>\n",
       "      <td>2022-06-22</td>\n",
       "      <td>4169</td>\n",
       "      <td>-0.913455</td>\n",
       "      <td>-0.816054</td>\n",
       "      <td>-0.929935</td>\n",
       "      <td>-0.852651</td>\n",
       "      <td>12.251432</td>\n",
       "      <td>-0.418367</td>\n",
       "      <td>0.000000</td>\n",
       "      <td>...</td>\n",
       "      <td>0.0</td>\n",
       "      <td>0.598431</td>\n",
       "      <td>0.396792</td>\n",
       "      <td>0.027412</td>\n",
       "      <td>0.759241</td>\n",
       "      <td>0.475735</td>\n",
       "      <td>0.710782</td>\n",
       "      <td>-0.447413</td>\n",
       "      <td>0.803813</td>\n",
       "      <td>0.050000</td>\n",
       "    </tr>\n",
       "    <tr>\n",
       "      <th>1088587</th>\n",
       "      <td>20220623_4169</td>\n",
       "      <td>2022-06-23</td>\n",
       "      <td>4169</td>\n",
       "      <td>-0.898462</td>\n",
       "      <td>-0.833293</td>\n",
       "      <td>-0.946739</td>\n",
       "      <td>-0.924943</td>\n",
       "      <td>7.846936</td>\n",
       "      <td>-0.418367</td>\n",
       "      <td>0.000000</td>\n",
       "      <td>...</td>\n",
       "      <td>0.0</td>\n",
       "      <td>0.399821</td>\n",
       "      <td>0.326044</td>\n",
       "      <td>0.081137</td>\n",
       "      <td>0.280864</td>\n",
       "      <td>0.464461</td>\n",
       "      <td>0.348612</td>\n",
       "      <td>-0.035169</td>\n",
       "      <td>-1.555582</td>\n",
       "      <td>0.231041</td>\n",
       "    </tr>\n",
       "    <tr>\n",
       "      <th>1088588</th>\n",
       "      <td>20220624_4169</td>\n",
       "      <td>2022-06-24</td>\n",
       "      <td>4169</td>\n",
       "      <td>-0.867443</td>\n",
       "      <td>-0.865800</td>\n",
       "      <td>-0.891450</td>\n",
       "      <td>-0.896858</td>\n",
       "      <td>3.760866</td>\n",
       "      <td>-0.418367</td>\n",
       "      <td>0.000000</td>\n",
       "      <td>...</td>\n",
       "      <td>0.0</td>\n",
       "      <td>0.550765</td>\n",
       "      <td>0.302115</td>\n",
       "      <td>0.120435</td>\n",
       "      <td>0.298333</td>\n",
       "      <td>0.460595</td>\n",
       "      <td>0.382199</td>\n",
       "      <td>-0.114720</td>\n",
       "      <td>0.275071</td>\n",
       "      <td>-0.021490</td>\n",
       "    </tr>\n",
       "  </tbody>\n",
       "</table>\n",
       "<p>1088589 rows × 37 columns</p>\n",
       "</div>"
      ],
      "text/plain": [
       "                 RowId       Date SecuritiesCode      Open      High  \\\n",
       "0        20200401_1301 2020-04-01           1301 -2.077562 -1.970980   \n",
       "1        20200402_1301 2020-04-02           1301 -2.305423 -2.052332   \n",
       "2        20200403_1301 2020-04-03           1301 -2.241621 -2.093008   \n",
       "3        20200406_1301 2020-04-06           1301 -2.382895 -2.106567   \n",
       "4        20200407_1301 2020-04-07           1301 -1.927174 -1.957421   \n",
       "...                ...        ...            ...       ...       ...   \n",
       "1088584  20220620_4169 2022-06-20           4169 -1.073720 -1.032769   \n",
       "1088585  20220621_4169 2022-06-21           4169 -1.002376 -0.962337   \n",
       "1088586  20220622_4169 2022-06-22           4169 -0.913455 -0.816054   \n",
       "1088587  20220623_4169 2022-06-23           4169 -0.898462 -0.833293   \n",
       "1088588  20220624_4169 2022-06-24           4169 -0.867443 -0.865800   \n",
       "\n",
       "              Low     Close     Volume  AdjustmentFactor  ExpectedDividend  \\\n",
       "0       -2.073439 -2.071934   2.245799         -0.418367         -0.060499   \n",
       "1       -2.311268 -2.094678   1.542452         -0.418367         -0.060499   \n",
       "2       -2.265531 -2.167458   0.748155         -0.418367         -0.060499   \n",
       "3       -2.292973 -2.131068   0.645079         -0.418367         -0.060499   \n",
       "4       -2.087160 -1.899079   0.542002         -0.418367         -0.060499   \n",
       "...           ...       ...        ...               ...               ...   \n",
       "1088584 -1.074121 -1.027399   3.409931         -0.418367          0.000000   \n",
       "1088585 -0.992813 -0.949386   5.537711         -0.418367          0.000000   \n",
       "1088586 -0.929935 -0.852651  12.251432         -0.418367          0.000000   \n",
       "1088587 -0.946739 -0.924943   7.846936         -0.418367          0.000000   \n",
       "1088588 -0.891450 -0.896858   3.760866         -0.418367          0.000000   \n",
       "\n",
       "         ...  SecuritiesCode_int_diff  MA_5days_diff  MA_25days_diff  \\\n",
       "0        ...                      0.0      -0.329406       -0.965131   \n",
       "1        ...                      0.0      -0.329406       -0.965131   \n",
       "2        ...                      0.0      -0.623877       -1.840971   \n",
       "3        ...                      0.0      -0.215632       -0.626738   \n",
       "4        ...                      0.0       0.638336        1.913200   \n",
       "...      ...                      ...            ...             ...   \n",
       "1088584  ...                      0.0       0.292572        0.202757   \n",
       "1088585  ...                      0.0       0.484561        0.295873   \n",
       "1088586  ...                      0.0       0.598431        0.396792   \n",
       "1088587  ...                      0.0       0.399821        0.326044   \n",
       "1088588  ...                      0.0       0.550765        0.302115   \n",
       "\n",
       "         MA_75days_diff  MACD_diff  Signal_diff  Bollinger_band_upper_diff  \\\n",
       "0             -1.867629  -0.043854    -0.048844                  -0.176678   \n",
       "1             -1.867629  -0.043854    -0.048844                  -0.176678   \n",
       "2             -3.595258  -0.159131    -0.132774                   0.736462   \n",
       "3             -1.200136   0.005351    -0.063802                  -0.658623   \n",
       "4              3.809989   0.564557     0.252954                   3.676057   \n",
       "...                 ...        ...          ...                        ...   \n",
       "1088584        0.044325   0.275075     0.203014                   0.258427   \n",
       "1088585        0.055767   0.508479     0.313429                   0.466670   \n",
       "1088586        0.027412   0.759241     0.475735                   0.710782   \n",
       "1088587        0.081137   0.280864     0.464461                   0.348612   \n",
       "1088588        0.120435   0.298333     0.460595                   0.382199   \n",
       "\n",
       "         Bollinger_band_lower_diff  RSI_diff    Target  \n",
       "0                        -0.198617 -0.013380 -0.006369  \n",
       "1                        -0.198617 -0.013380  0.003205  \n",
       "2                        -3.149829 -0.013380  0.020367  \n",
       "3                         0.141742  3.819734  0.016438  \n",
       "4                        -2.669847  6.401097 -0.016943  \n",
       "...                            ...       ...       ...  \n",
       "1088584                  -0.075718  1.100700  0.180058  \n",
       "1088585                  -0.241691  1.316251 -0.114028  \n",
       "1088586                  -0.447413  0.803813  0.050000  \n",
       "1088587                  -0.035169 -1.555582  0.231041  \n",
       "1088588                  -0.114720  0.275071 -0.021490  \n",
       "\n",
       "[1088589 rows x 37 columns]"
      ]
     },
     "execution_count": 16,
     "metadata": {},
     "output_type": "execute_result"
    }
   ],
   "source": [
    "stock_prices_proced_df"
   ]
  },
  {
   "cell_type": "code",
   "execution_count": 17,
   "id": "14e020af",
   "metadata": {
    "execution": {
     "iopub.execute_input": "2022-07-04T14:33:06.367075Z",
     "iopub.status.busy": "2022-07-04T14:33:06.366797Z",
     "iopub.status.idle": "2022-07-04T14:33:17.136080Z",
     "shell.execute_reply": "2022-07-04T14:33:17.135369Z"
    },
    "papermill": {
     "duration": 11.721642,
     "end_time": "2022-07-04T14:33:17.138191",
     "exception": false,
     "start_time": "2022-07-04T14:33:05.416549",
     "status": "completed"
    },
    "tags": []
   },
   "outputs": [],
   "source": [
    "stock_prices_proced_dict = df2Codedict(stock_prices_proced_df, is_values=True)\n",
    "#supple_stock_prices_proced_dict = df2Codedict(supple_stock_prices_proced_df, is_values=True)"
   ]
  },
  {
   "cell_type": "markdown",
   "id": "974773e8",
   "metadata": {
    "papermill": {
     "duration": 0.949277,
     "end_time": "2022-07-04T14:33:19.282089",
     "exception": false,
     "start_time": "2022-07-04T14:33:18.332812",
     "status": "completed"
    },
    "tags": []
   },
   "source": [
    "## LSTM"
   ]
  },
  {
   "cell_type": "code",
   "execution_count": 18,
   "id": "88fda7fb",
   "metadata": {
    "execution": {
     "iopub.execute_input": "2022-07-04T14:33:21.170733Z",
     "iopub.status.busy": "2022-07-04T14:33:21.170464Z",
     "iopub.status.idle": "2022-07-04T14:33:21.176169Z",
     "shell.execute_reply": "2022-07-04T14:33:21.175528Z"
    },
    "papermill": {
     "duration": 0.954878,
     "end_time": "2022-07-04T14:33:21.177908",
     "exception": false,
     "start_time": "2022-07-04T14:33:20.223030",
     "status": "completed"
    },
    "tags": []
   },
   "outputs": [
    {
     "data": {
      "text/plain": [
       "Index(['Open', 'High', 'Low', 'Close', 'Volume', 'AdjustmentFactor',\n",
       "       'ExpectedDividend', 'SupervisionFlag', 'Month', 'SecuritiesCode_int',\n",
       "       'MA_5days', 'MA_25days', 'MA_75days', 'MACD', 'Signal',\n",
       "       'Bollinger_band_upper', 'Bollinger_band_lower', 'RSI', 'Open_diff',\n",
       "       'High_diff', 'Low_diff', 'Close_diff', 'Volume_diff',\n",
       "       'ExpectedDividend_diff', 'SecuritiesCode_int_diff', 'MA_5days_diff',\n",
       "       'MA_25days_diff', 'MA_75days_diff', 'MACD_diff', 'Signal_diff',\n",
       "       'Bollinger_band_upper_diff', 'Bollinger_band_lower_diff', 'RSI_diff'],\n",
       "      dtype='object')"
      ]
     },
     "execution_count": 18,
     "metadata": {},
     "output_type": "execute_result"
    }
   ],
   "source": [
    "stock_prices_proced_df.columns[IDX_BEGIN_FEATURE:-1]"
   ]
  },
  {
   "cell_type": "code",
   "execution_count": 19,
   "id": "8608ea05",
   "metadata": {
    "execution": {
     "iopub.execute_input": "2022-07-04T14:33:23.061589Z",
     "iopub.status.busy": "2022-07-04T14:33:23.061042Z",
     "iopub.status.idle": "2022-07-04T14:33:24.936296Z",
     "shell.execute_reply": "2022-07-04T14:33:24.935446Z"
    },
    "papermill": {
     "duration": 2.822784,
     "end_time": "2022-07-04T14:33:24.938572",
     "exception": false,
     "start_time": "2022-07-04T14:33:22.115788",
     "status": "completed"
    },
    "tags": []
   },
   "outputs": [],
   "source": [
    "import torch\n",
    "import torch.nn as nn\n",
    "import torch.nn.functional as F\n",
    "\n",
    "input_size = len(stock_prices_proced_df.columns[IDX_BEGIN_FEATURE:-1]) \n",
    "\n",
    "class LSTM(nn.Module):\n",
    "    def __init__(self, input_size=input_size, sequence_num=31, lstm_dim=128,\n",
    "                 num_layers=2, output_size=1):\n",
    "        super().__init__()\n",
    "        \n",
    "        self.lstm = nn.LSTM(input_size, lstm_dim, num_layers, batch_first=True, bidirectional=True, dropout=0.2)\n",
    "        self.linear1 = nn.Linear(lstm_dim*sequence_num*2, 1)\n",
    "        self.bn1 = nn.BatchNorm1d(lstm_dim*sequence_num*2)\n",
    "\n",
    "    def forward(self, x):\n",
    "        lstm_out, _ = self.lstm(x)\n",
    "        x = lstm_out.reshape(lstm_out.shape[0], -1)\n",
    "        #x = self.linear1(x)\n",
    "        x = self.linear1(self.bn1(x))\n",
    "        return x"
   ]
  },
  {
   "cell_type": "markdown",
   "id": "3a21e64b",
   "metadata": {
    "papermill": {
     "duration": 0.946702,
     "end_time": "2022-07-04T14:33:26.867934",
     "exception": false,
     "start_time": "2022-07-04T14:33:25.921232",
     "status": "completed"
    },
    "tags": []
   },
   "source": [
    "## dataloader"
   ]
  },
  {
   "cell_type": "code",
   "execution_count": 20,
   "id": "35533488",
   "metadata": {
    "execution": {
     "iopub.execute_input": "2022-07-04T14:33:29.556254Z",
     "iopub.status.busy": "2022-07-04T14:33:29.556001Z",
     "iopub.status.idle": "2022-07-04T14:33:32.450762Z",
     "shell.execute_reply": "2022-07-04T14:33:32.449937Z"
    },
    "papermill": {
     "duration": 4.106253,
     "end_time": "2022-07-04T14:33:32.452802",
     "exception": false,
     "start_time": "2022-07-04T14:33:28.346549",
     "status": "completed"
    },
    "tags": []
   },
   "outputs": [
    {
     "name": "stdout",
     "output_type": "stream",
     "text": [
      "---------\n",
      "torch.Size([32, 31, 33]) torch.Size([32])\n"
     ]
    }
   ],
   "source": [
    "import torch\n",
    "from torch.utils.data.sampler import SubsetRandomSampler\n",
    "import os\n",
    "\n",
    "class MyDataset(torch.utils.data.Dataset):\n",
    "    def __init__(self, X, sequence_num=31, y=None, mode='train'):\n",
    "        self.data = X\n",
    "        self.teacher = y\n",
    "        self.sequence_num = sequence_num\n",
    "        self.mode = mode\n",
    "        \n",
    "    def __len__(self):\n",
    "        return len(self.teacher)\n",
    "\n",
    "    def __getitem__(self, idx):\n",
    "        out_data = self.data[idx]\n",
    "        if self.mode == 'train':\n",
    "            out_label =  self.teacher[idx[-1]]\n",
    "            return out_data, out_label\n",
    "        else:\n",
    "            return out_data\n",
    "        \n",
    "def create_dataloader(dataset, dataset_num, sequence_num=31, input_size=input_size, batch_size=32, shuffle=False):\n",
    "    sampler = np.array([list(range(i, i+sequence_num)) for i in range(dataset_num-sequence_num+1)])\n",
    "    if shuffle == True:\n",
    "        np.random.shuffle(sampler)\n",
    "    dataloader = torch.utils.data.DataLoader(dataset, batch_size, sampler=sampler, num_workers=os.cpu_count(), pin_memory=True)\n",
    "    return dataloader\n",
    "\n",
    "#### Check operation ####\n",
    "X_check, y_check = stock_prices_proced_dict['1301'][:, :-1], stock_prices_proced_dict['1301'][:, -1]\n",
    "dataset_check = MyDataset(X_check, y=y_check, sequence_num=31, mode='train')\n",
    "dataloader_check = create_dataloader(dataset_check, X_check.shape[0], sequence_num=31, input_size=input_size, batch_size=32, shuffle=False)\n",
    "for b, tup in enumerate(dataloader_check):\n",
    "    print('---------')\n",
    "    print(tup[0].shape, tup[1].shape)\n",
    "    break"
   ]
  },
  {
   "cell_type": "code",
   "execution_count": 21,
   "id": "e3261f0d",
   "metadata": {
    "execution": {
     "iopub.execute_input": "2022-07-04T14:33:34.341936Z",
     "iopub.status.busy": "2022-07-04T14:33:34.341662Z",
     "iopub.status.idle": "2022-07-04T14:33:34.351603Z",
     "shell.execute_reply": "2022-07-04T14:33:34.350929Z"
    },
    "papermill": {
     "duration": 0.955381,
     "end_time": "2022-07-04T14:33:34.353273",
     "exception": false,
     "start_time": "2022-07-04T14:33:33.397892",
     "status": "completed"
    },
    "tags": []
   },
   "outputs": [],
   "source": [
    "epochs = 40\n",
    "LR_MAX = 1e-3\n",
    "LR_MIN = 1e-5\n",
    "WARMUP_EPOCH = 10\n",
    "START_ANNEALING_EPOCH = 10\n",
    "END_ANNEALING_EPOCH = epochs\n",
    "VISIBLE = True\n",
    "\n",
    "batch_size = 500\n",
    "\n",
    "\n",
    "def __warmup(epoch, warmup_epoch, warmup_rate, lr_end, visible=False):\n",
    "    warmup_grad = warmup_rate / warmup_epoch\n",
    "    if epoch <= warmup_epoch:\n",
    "        lr = lr_end * 10**(-warmup_rate + warmup_grad*epoch)\n",
    "    if visible:\n",
    "        print('lr : {}'.format(lr))\n",
    "        return lr\n",
    "    else:\n",
    "        return lr\n",
    "\n",
    "def __cosine_annealing(epoch, lr_max, lr_min, epoch_start, epoch_end, visible=False):\n",
    "    if epoch <= epoch_start:\n",
    "        # before annealing\n",
    "        return lr_max\n",
    "    elif epoch_start < epoch <= epoch_end:\n",
    "        # during annealing\n",
    "        lr = lr_min + 0.5*(lr_max - lr_min)*(1+np.cos(np.pi*(epoch-epoch_start)/(epoch_end - epoch_start)))\n",
    "        if visible:\n",
    "            print('lr : {}'.format(lr))\n",
    "        return lr\n",
    "    else:\n",
    "        # after annealing\n",
    "        return lr\n",
    "\n",
    "def update_lr(epoch):\n",
    "    visible = VISIBLE\n",
    "    warmup_epoch = 10\n",
    "    if epoch <= warmup_epoch:\n",
    "        lr = __warmup(epoch, warmup_epoch=WARMUP_EPOCH, warmup_rate=2.0, lr_end=LR_MAX, visible=visible)\n",
    "    else:\n",
    "        lr = __cosine_annealing(epoch,\n",
    "                                lr_max=LR_MAX,\n",
    "                                lr_min=LR_MIN,\n",
    "                                epoch_start=START_ANNEALING_EPOCH,\n",
    "                                epoch_end=END_ANNEALING_EPOCH,\n",
    "                                visible=visible)\n",
    "    return lr"
   ]
  },
  {
   "cell_type": "code",
   "execution_count": 22,
   "id": "6f253d54",
   "metadata": {
    "execution": {
     "iopub.execute_input": "2022-07-04T14:33:36.289382Z",
     "iopub.status.busy": "2022-07-04T14:33:36.289129Z",
     "iopub.status.idle": "2022-07-04T18:33:29.943451Z",
     "shell.execute_reply": "2022-07-04T18:33:29.942533Z"
    },
    "papermill": {
     "duration": 14394.604644,
     "end_time": "2022-07-04T18:33:29.945652",
     "exception": false,
     "start_time": "2022-07-04T14:33:35.341008",
     "status": "completed"
    },
    "tags": []
   },
   "outputs": [
    {
     "name": "stdout",
     "output_type": "stream",
     "text": [
      "params size :  585985\n",
      "lr : 1e-05\n"
     ]
    },
    {
     "name": "stderr",
     "output_type": "stream",
     "text": [
      "100%|██████████| 2000/2000 [05:50<00:00,  5.71it/s]\n"
     ]
    },
    {
     "name": "stdout",
     "output_type": "stream",
     "text": [
      "train epoch_loss=0.03352857169423074\n",
      "lr : 1.5848931924611134e-05\n"
     ]
    },
    {
     "name": "stderr",
     "output_type": "stream",
     "text": [
      "100%|██████████| 2000/2000 [05:54<00:00,  5.65it/s]\n"
     ]
    },
    {
     "name": "stdout",
     "output_type": "stream",
     "text": [
      "train epoch_loss=0.004514743174119531\n",
      "lr : 2.5118864315095795e-05\n"
     ]
    },
    {
     "name": "stderr",
     "output_type": "stream",
     "text": [
      "100%|██████████| 2000/2000 [05:59<00:00,  5.56it/s]\n"
     ]
    },
    {
     "name": "stdout",
     "output_type": "stream",
     "text": [
      "train epoch_loss=0.001103915582365246\n",
      "lr : 3.9810717055349735e-05\n"
     ]
    },
    {
     "name": "stderr",
     "output_type": "stream",
     "text": [
      "100%|██████████| 2000/2000 [06:00<00:00,  5.55it/s]\n"
     ]
    },
    {
     "name": "stdout",
     "output_type": "stream",
     "text": [
      "train epoch_loss=0.00044639915267770326\n",
      "lr : 6.309573444801933e-05\n"
     ]
    },
    {
     "name": "stderr",
     "output_type": "stream",
     "text": [
      "100%|██████████| 2000/2000 [06:03<00:00,  5.50it/s]\n"
     ]
    },
    {
     "name": "stdout",
     "output_type": "stream",
     "text": [
      "train epoch_loss=0.00028620415031062487\n",
      "lr : 0.0001\n"
     ]
    },
    {
     "name": "stderr",
     "output_type": "stream",
     "text": [
      "100%|██████████| 2000/2000 [05:55<00:00,  5.63it/s]\n"
     ]
    },
    {
     "name": "stdout",
     "output_type": "stream",
     "text": [
      "train epoch_loss=0.0002956763238807102\n",
      "lr : 0.00015848931924611142\n"
     ]
    },
    {
     "name": "stderr",
     "output_type": "stream",
     "text": [
      "100%|██████████| 2000/2000 [05:57<00:00,  5.60it/s]\n"
     ]
    },
    {
     "name": "stdout",
     "output_type": "stream",
     "text": [
      "train epoch_loss=0.0004934409852123104\n",
      "lr : 0.00025118864315095806\n"
     ]
    },
    {
     "name": "stderr",
     "output_type": "stream",
     "text": [
      "100%|██████████| 2000/2000 [05:58<00:00,  5.58it/s]\n"
     ]
    },
    {
     "name": "stdout",
     "output_type": "stream",
     "text": [
      "train epoch_loss=0.0007215338430459926\n",
      "lr : 0.0003981071705534973\n"
     ]
    },
    {
     "name": "stderr",
     "output_type": "stream",
     "text": [
      "100%|██████████| 2000/2000 [05:59<00:00,  5.56it/s]\n"
     ]
    },
    {
     "name": "stdout",
     "output_type": "stream",
     "text": [
      "train epoch_loss=0.002159227082286415\n",
      "lr : 0.0006309573444801934\n"
     ]
    },
    {
     "name": "stderr",
     "output_type": "stream",
     "text": [
      "100%|██████████| 2000/2000 [06:00<00:00,  5.55it/s]\n"
     ]
    },
    {
     "name": "stdout",
     "output_type": "stream",
     "text": [
      "train epoch_loss=0.003516357313388236\n",
      "lr : 0.001\n"
     ]
    },
    {
     "name": "stderr",
     "output_type": "stream",
     "text": [
      "100%|██████████| 2000/2000 [06:01<00:00,  5.53it/s]\n"
     ]
    },
    {
     "name": "stdout",
     "output_type": "stream",
     "text": [
      "train epoch_loss=0.0028426886728098308\n",
      "lr : 0.0009972883382072953\n"
     ]
    },
    {
     "name": "stderr",
     "output_type": "stream",
     "text": [
      "100%|██████████| 2000/2000 [06:03<00:00,  5.51it/s]\n"
     ]
    },
    {
     "name": "stdout",
     "output_type": "stream",
     "text": [
      "train epoch_loss=0.00023015014322809476\n",
      "lr : 0.0009891830623632338\n"
     ]
    },
    {
     "name": "stderr",
     "output_type": "stream",
     "text": [
      "100%|██████████| 2000/2000 [05:55<00:00,  5.62it/s]\n"
     ]
    },
    {
     "name": "stdout",
     "output_type": "stream",
     "text": [
      "train epoch_loss=0.00010973853773964231\n",
      "lr : 0.0009757729755661011\n"
     ]
    },
    {
     "name": "stderr",
     "output_type": "stream",
     "text": [
      "100%|██████████| 2000/2000 [05:56<00:00,  5.61it/s]\n"
     ]
    },
    {
     "name": "stdout",
     "output_type": "stream",
     "text": [
      "train epoch_loss=4.904652330819325e-05\n",
      "lr : 0.0009572050015330874\n"
     ]
    },
    {
     "name": "stderr",
     "output_type": "stream",
     "text": [
      "100%|██████████| 2000/2000 [05:52<00:00,  5.68it/s]\n"
     ]
    },
    {
     "name": "stdout",
     "output_type": "stream",
     "text": [
      "train epoch_loss=3.690814119888726e-05\n",
      "lr : 0.0009336825748732972\n"
     ]
    },
    {
     "name": "stderr",
     "output_type": "stream",
     "text": [
      "100%|██████████| 2000/2000 [06:02<00:00,  5.51it/s]\n"
     ]
    },
    {
     "name": "stdout",
     "output_type": "stream",
     "text": [
      "train epoch_loss=3.420658189037011e-05\n",
      "lr : 0.000905463412215599\n"
     ]
    },
    {
     "name": "stderr",
     "output_type": "stream",
     "text": [
      "100%|██████████| 2000/2000 [05:54<00:00,  5.63it/s]\n"
     ]
    },
    {
     "name": "stdout",
     "output_type": "stream",
     "text": [
      "train epoch_loss=3.177287318891293e-05\n",
      "lr : 0.0008728566886113102\n"
     ]
    },
    {
     "name": "stderr",
     "output_type": "stream",
     "text": [
      "100%|██████████| 2000/2000 [06:06<00:00,  5.45it/s]\n"
     ]
    },
    {
     "name": "stdout",
     "output_type": "stream",
     "text": [
      "train epoch_loss=3.05476772191489e-05\n",
      "lr : 0.0008362196501476349\n"
     ]
    },
    {
     "name": "stderr",
     "output_type": "stream",
     "text": [
      "100%|██████████| 2000/2000 [05:55<00:00,  5.62it/s]\n"
     ]
    },
    {
     "name": "stdout",
     "output_type": "stream",
     "text": [
      "train epoch_loss=2.867924168212055e-05\n",
      "lr : 0.0007959536998847742\n"
     ]
    },
    {
     "name": "stderr",
     "output_type": "stream",
     "text": [
      "100%|██████████| 2000/2000 [06:05<00:00,  5.47it/s]\n"
     ]
    },
    {
     "name": "stdout",
     "output_type": "stream",
     "text": [
      "train epoch_loss=2.7940193730419724e-05\n",
      "lr : 0.0007525\n"
     ]
    },
    {
     "name": "stderr",
     "output_type": "stream",
     "text": [
      "100%|██████████| 2000/2000 [06:02<00:00,  5.51it/s]\n"
     ]
    },
    {
     "name": "stdout",
     "output_type": "stream",
     "text": [
      "train epoch_loss=2.6010815050338222e-05\n",
      "lr : 0.0007063346383225212\n"
     ]
    },
    {
     "name": "stderr",
     "output_type": "stream",
     "text": [
      "100%|██████████| 2000/2000 [06:06<00:00,  5.46it/s]\n"
     ]
    },
    {
     "name": "stdout",
     "output_type": "stream",
     "text": [
      "train epoch_loss=2.5000531625697848e-05\n",
      "lr : 0.000657963412215599\n"
     ]
    },
    {
     "name": "stderr",
     "output_type": "stream",
     "text": [
      "100%|██████████| 2000/2000 [06:00<00:00,  5.54it/s]\n"
     ]
    },
    {
     "name": "stdout",
     "output_type": "stream",
     "text": [
      "train epoch_loss=2.3368859384176567e-05\n",
      "lr : 0.0006079162869547908\n"
     ]
    },
    {
     "name": "stderr",
     "output_type": "stream",
     "text": [
      "100%|██████████| 2000/2000 [06:09<00:00,  5.41it/s]\n"
     ]
    },
    {
     "name": "stdout",
     "output_type": "stream",
     "text": [
      "train epoch_loss=2.223170575067262e-05\n",
      "lr : 0.0005567415893174885\n"
     ]
    },
    {
     "name": "stderr",
     "output_type": "stream",
     "text": [
      "100%|██████████| 2000/2000 [06:01<00:00,  5.54it/s]\n"
     ]
    },
    {
     "name": "stdout",
     "output_type": "stream",
     "text": [
      "train epoch_loss=2.1497487772763584e-05\n",
      "lr : 0.0005050000000000001\n"
     ]
    },
    {
     "name": "stderr",
     "output_type": "stream",
     "text": [
      "100%|██████████| 2000/2000 [06:02<00:00,  5.51it/s]\n"
     ]
    },
    {
     "name": "stdout",
     "output_type": "stream",
     "text": [
      "train epoch_loss=2.0400521335893663e-05\n",
      "lr : 0.00045325841068251166\n"
     ]
    },
    {
     "name": "stderr",
     "output_type": "stream",
     "text": [
      "100%|██████████| 2000/2000 [05:53<00:00,  5.65it/s]\n"
     ]
    },
    {
     "name": "stdout",
     "output_type": "stream",
     "text": [
      "train epoch_loss=1.9539804815786664e-05\n",
      "lr : 0.0004020837130452091\n"
     ]
    },
    {
     "name": "stderr",
     "output_type": "stream",
     "text": [
      "100%|██████████| 2000/2000 [05:53<00:00,  5.65it/s]\n"
     ]
    },
    {
     "name": "stdout",
     "output_type": "stream",
     "text": [
      "train epoch_loss=1.862021451493349e-05\n",
      "lr : 0.0003520365877844011\n"
     ]
    },
    {
     "name": "stderr",
     "output_type": "stream",
     "text": [
      "100%|██████████| 2000/2000 [06:04<00:00,  5.49it/s]\n"
     ]
    },
    {
     "name": "stdout",
     "output_type": "stream",
     "text": [
      "train epoch_loss=1.8186615769958533e-05\n",
      "lr : 0.000303665361677479\n"
     ]
    },
    {
     "name": "stderr",
     "output_type": "stream",
     "text": [
      "100%|██████████| 2000/2000 [05:54<00:00,  5.64it/s]\n"
     ]
    },
    {
     "name": "stdout",
     "output_type": "stream",
     "text": [
      "train epoch_loss=1.7462598615108674e-05\n",
      "lr : 0.00025750000000000013\n"
     ]
    },
    {
     "name": "stderr",
     "output_type": "stream",
     "text": [
      "100%|██████████| 2000/2000 [05:54<00:00,  5.64it/s]\n"
     ]
    },
    {
     "name": "stdout",
     "output_type": "stream",
     "text": [
      "train epoch_loss=1.7138144421463318e-05\n",
      "lr : 0.00021404630011522585\n"
     ]
    },
    {
     "name": "stderr",
     "output_type": "stream",
     "text": [
      "100%|██████████| 2000/2000 [06:05<00:00,  5.48it/s]\n"
     ]
    },
    {
     "name": "stdout",
     "output_type": "stream",
     "text": [
      "train epoch_loss=1.620262524215889e-05\n",
      "lr : 0.00017378034985236535\n"
     ]
    },
    {
     "name": "stderr",
     "output_type": "stream",
     "text": [
      "100%|██████████| 2000/2000 [05:57<00:00,  5.60it/s]\n"
     ]
    },
    {
     "name": "stdout",
     "output_type": "stream",
     "text": [
      "train epoch_loss=1.5778436808693258e-05\n",
      "lr : 0.00013714331138868995\n"
     ]
    },
    {
     "name": "stderr",
     "output_type": "stream",
     "text": [
      "100%|██████████| 2000/2000 [05:56<00:00,  5.61it/s]\n"
     ]
    },
    {
     "name": "stdout",
     "output_type": "stream",
     "text": [
      "train epoch_loss=1.5144128947033944e-05\n",
      "lr : 0.00010453658778440107\n"
     ]
    },
    {
     "name": "stderr",
     "output_type": "stream",
     "text": [
      "100%|██████████| 2000/2000 [05:56<00:00,  5.61it/s]\n"
     ]
    },
    {
     "name": "stdout",
     "output_type": "stream",
     "text": [
      "train epoch_loss=1.4599856577612067e-05\n",
      "lr : 7.631742512670284e-05\n"
     ]
    },
    {
     "name": "stderr",
     "output_type": "stream",
     "text": [
      "100%|██████████| 2000/2000 [06:09<00:00,  5.41it/s]\n"
     ]
    },
    {
     "name": "stdout",
     "output_type": "stream",
     "text": [
      "train epoch_loss=1.4293839120003285e-05\n",
      "lr : 5.279499846691251e-05\n"
     ]
    },
    {
     "name": "stderr",
     "output_type": "stream",
     "text": [
      "100%|██████████| 2000/2000 [05:57<00:00,  5.60it/s]\n"
     ]
    },
    {
     "name": "stdout",
     "output_type": "stream",
     "text": [
      "train epoch_loss=1.3750650494013811e-05\n",
      "lr : 3.4227024433899005e-05\n"
     ]
    },
    {
     "name": "stderr",
     "output_type": "stream",
     "text": [
      "100%|██████████| 2000/2000 [05:57<00:00,  5.60it/s]\n"
     ]
    },
    {
     "name": "stdout",
     "output_type": "stream",
     "text": [
      "train epoch_loss=1.340587842186242e-05\n",
      "lr : 2.0816937636766185e-05\n"
     ]
    },
    {
     "name": "stderr",
     "output_type": "stream",
     "text": [
      "100%|██████████| 2000/2000 [06:01<00:00,  5.53it/s]\n"
     ]
    },
    {
     "name": "stdout",
     "output_type": "stream",
     "text": [
      "train epoch_loss=1.3108945180965686e-05\n",
      "lr : 1.2711661792704668e-05\n"
     ]
    },
    {
     "name": "stderr",
     "output_type": "stream",
     "text": [
      "100%|██████████| 2000/2000 [06:11<00:00,  5.38it/s]"
     ]
    },
    {
     "name": "stdout",
     "output_type": "stream",
     "text": [
      "train epoch_loss=1.283652957462842e-05\n"
     ]
    },
    {
     "name": "stderr",
     "output_type": "stream",
     "text": [
      "\n"
     ]
    },
    {
     "data": {
      "text/plain": [
       "LSTM(\n",
       "  (lstm): LSTM(33, 128, num_layers=2, batch_first=True, dropout=0.2, bidirectional=True)\n",
       "  (linear1): Linear(in_features=7936, out_features=1, bias=True)\n",
       "  (bn1): BatchNorm1d(7936, eps=1e-05, momentum=0.1, affine=True, track_running_stats=True)\n",
       ")"
      ]
     },
     "execution_count": 22,
     "metadata": {},
     "output_type": "execute_result"
    }
   ],
   "source": [
    "from tqdm import tqdm\n",
    "\n",
    "# Check wheter GPU is available\n",
    "device = torch.device('cuda:0' if torch.cuda.is_available() else 'cpu')\n",
    "# Model Instantiation\n",
    "model = LSTM(input_size=X_check.shape[-1], sequence_num=31, lstm_dim=128, num_layers=2, output_size=1)\n",
    "print('params size : ', sum(p.numel() for p in model.parameters() if p.requires_grad))\n",
    "model.to(device)\n",
    "\n",
    "# setting optimizer\n",
    "weight_decay = 1e-05\n",
    "optimizer = torch.optim.AdamW(model.parameters(), lr=LR_MIN, weight_decay=weight_decay)\n",
    "# setting criterion\n",
    "criterion = nn.MSELoss()\n",
    "# set iteration counter\n",
    "iteration = 0\n",
    "iteration_valid = 0\n",
    "# \n",
    "log_train = [[0], [np.inf]]\n",
    "#log_valid = [[0], [np.inf]]\n",
    "\n",
    "lr_log = []\n",
    "for epoch in range(epochs):\n",
    "    # update lr\n",
    "    for g in optimizer.param_groups:\n",
    "        lr = update_lr(epoch)\n",
    "        g['lr'] = lr\n",
    "        lr_log.append(lr)\n",
    "    \n",
    "    # train\n",
    "    epoch_loss = 0.0\n",
    "    model.train()\n",
    "    for sc in tqdm(stock_prices_df['SecuritiesCode'].unique()):\n",
    "        X, y = stock_prices_proced_dict[str(sc)][:, :-1], stock_prices_proced_dict[str(sc)][:, -1]\n",
    "        dataset = MyDataset(X, y=y, sequence_num=31, mode='train')\n",
    "        # 銘柄ごとにデータローダーが作られる\n",
    "        dataloader = create_dataloader(dataset, X.shape[0], sequence_num=31, input_size=input_size, batch_size=batch_size, shuffle=True)\n",
    "        for data, targets in dataloader:\n",
    "            data, targets = data.to(device), targets.to(device)\n",
    "            optimizer.zero_grad()\n",
    "            data = data.to(torch.float32)\n",
    "            output = model.forward(data)\n",
    "            targets = targets.to(torch.float32)\n",
    "            loss = criterion(output.view(1,-1)[0], targets)\n",
    "            loss.backward()\n",
    "            optimizer.step()\n",
    "            epoch_loss += loss.item()\n",
    "            iteration += 1\n",
    "    \n",
    "    # valid \n",
    "#     epoch_loss_valid = 0.0\n",
    "#     model.eval()\n",
    "#     with torch.no_grad():\n",
    "#         for sc in tqdm(supple_stock_prices_df['SecuritiesCode'].unique()):\n",
    "#             X, y = supple_stock_prices_proced_dict[str(sc)][:, :-1], supple_stock_prices_proced_dict[str(sc)][:, -1]\n",
    "#             dataset = MyDataset(X, y=y, sequence_num=31, mode='train')\n",
    "#             # 銘柄ごとにデータローダーが作られる\n",
    "#             dataloader = create_dataloader(dataset, X.shape[0], sequence_num=31, input_size=8, batch_size=batch_size, shuffle=False)\n",
    "#             for data, targets in dataloader:\n",
    "#                 data, targets = data.to(device), targets.to(device)\n",
    "#                 data = data.to(torch.float32)\n",
    "#                 output = model.forward(data)\n",
    "#                 targets = targets.to(torch.float32)\n",
    "#                 loss = criterion(output.view(1,-1)[0], targets)\n",
    "#                 epoch_loss_valid += loss.item()\n",
    "#                 iteration_valid += 1\n",
    "                \n",
    "    \n",
    "    epoch_loss /= iteration\n",
    "#    epoch_loss_valid /= iteration_valid\n",
    "    print('train epoch_loss={}'.format(epoch_loss))\n",
    "#    print('valid epoch_loss={}'.format(epoch_loss_valid))\n",
    "\n",
    "    \n",
    "    #log_train[0].append(iteration)\n",
    "    log_train[0].append(epoch)\n",
    "    log_train[1].append(epoch_loss)\n",
    "#    log_valid[0].append(epoch)\n",
    "#    log_valid[1].append(epoch_loss_valid)\n",
    "\n",
    "model.eval()"
   ]
  },
  {
   "cell_type": "code",
   "execution_count": 23,
   "id": "e9b3ec38",
   "metadata": {
    "execution": {
     "iopub.execute_input": "2022-07-04T18:34:23.466044Z",
     "iopub.status.busy": "2022-07-04T18:34:23.465761Z",
     "iopub.status.idle": "2022-07-04T18:34:24.033814Z",
     "shell.execute_reply": "2022-07-04T18:34:24.033125Z"
    },
    "papermill": {
     "duration": 27.2861,
     "end_time": "2022-07-04T18:34:24.035771",
     "exception": false,
     "start_time": "2022-07-04T18:33:56.749671",
     "status": "completed"
    },
    "tags": []
   },
   "outputs": [
    {
     "data": {
      "image/png": "[encoded data removed]",
      "text/plain": [
       "<Figure size 432x288 with 1 Axes>"
      ]
     },
     "metadata": {
      "needs_background": "light"
     },
     "output_type": "display_data"
    }
   ],
   "source": [
    "import matplotlib.pyplot as plt\n",
    "plt.figure()\n",
    "plt.plot(log_train[0][1:], log_train[1][1:], label='train loss')\n",
    "#plt.plot(log_valid[0][1:], log_valid[1][1:], label='valid loss')\n",
    "plt.xlabel('epoch')\n",
    "plt.ylabel('loss')\n",
    "plt.legend()\n",
    "plt.yscale('log')\n",
    "plt.show()"
   ]
  },
  {
   "cell_type": "code",
   "execution_count": null,
   "id": "28869dce",
   "metadata": {
    "papermill": {
     "duration": 26.106645,
     "end_time": "2022-07-04T18:35:16.957739",
     "exception": false,
     "start_time": "2022-07-04T18:34:50.851094",
     "status": "completed"
    },
    "tags": []
   },
   "outputs": [],
   "source": []
  },
  {
   "cell_type": "code",
   "execution_count": 24,
   "id": "1750cabe",
   "metadata": {
    "execution": {
     "iopub.execute_input": "2022-07-04T18:36:10.662384Z",
     "iopub.status.busy": "2022-07-04T18:36:10.662123Z",
     "iopub.status.idle": "2022-07-04T18:45:16.704157Z",
     "shell.execute_reply": "2022-07-04T18:45:16.703450Z"
    },
    "papermill": {
     "duration": 591.593748,
     "end_time": "2022-07-04T18:45:35.675777",
     "exception": false,
     "start_time": "2022-07-04T18:35:44.082029",
     "status": "completed"
    },
    "tags": []
   },
   "outputs": [
    {
     "name": "stdout",
     "output_type": "stream",
     "text": [
      "This version of the API is not optimized and should not be used to estimate the runtime of your code on the hidden test set.\n"
     ]
    },
    {
     "name": "stderr",
     "output_type": "stream",
     "text": [
      "2000it [04:31,  7.36it/s]\n",
      "2000it [04:33,  7.30it/s]\n"
     ]
    }
   ],
   "source": [
    "import jpx_tokyo_market_prediction\n",
    "\n",
    "env = jpx_tokyo_market_prediction.make_env()\n",
    "iter_test = env.iter_test()\n",
    "\n",
    "\n",
    "# try\n",
    "#N_DAYS_PREPROCESS = 50\n",
    "N_DAYS_PREPROCESS = 120\n",
    "model.eval()\n",
    "train_dict_base = stock_prices_dict.copy()\n",
    "cnt_days = 0\n",
    "with torch.inference_mode():\n",
    "    for (prices, options, financials, trades, secondary_prices, sample_prediction) in iter_test:    \n",
    "        input_tensor = np.zeros((2000, 31, input_size))\n",
    "        try:\n",
    "            # make each 2000 stocks features\n",
    "            for i, (code, test_data_code_df) in tqdm(enumerate(prices.groupby('SecuritiesCode'))):\n",
    "                train_df_base = train_dict_base[str(code)][-N_DAYS_PREPROCESS:]\n",
    "                # concat train df and test df\n",
    "                df_base_and_test = pd.concat((train_df_base.reset_index(drop=True),\n",
    "                                              test_data_code_df.reset_index(drop=True))).reset_index(drop=True)\n",
    "                # remove oldest data\n",
    "                df_base_and_test = df_base_and_test.iloc[cnt_days:, :].reset_index(drop=True)\n",
    "\n",
    "                # update dict (appending new day's data for predicting several days later)\n",
    "                train_dict_base[str(code)] = df_base_and_test\n",
    "\n",
    "                # drop target\n",
    "                df_base_and_test = df_base_and_test.drop('Target', axis=1)\n",
    "\n",
    "                df_base_and_test_proced = preprocess(df_base_and_test, training=False)\n",
    "                df_base_and_test_proced = df_base_and_test_proced.interpolate(method='ffill')\n",
    "                # normalize\n",
    "                df_base_and_test_proced.loc[:, categorical_columns] = catsc.transform(df_base_and_test_proced[categorical_columns])\n",
    "                stdsc = code2stdsc[code]  # normalize continuous variables\n",
    "                robustsc = code2robustsc[code]\n",
    "                value = robustsc.transform(df_base_and_test_proced[df_base_and_test_proced.SecuritiesCode == code][columns])\n",
    "                value = stdsc.transform(value)\n",
    "\n",
    "                df_base_and_test_proced.loc[df_base_and_test_proced.SecuritiesCode == code, columns] = value\n",
    "\n",
    "                # get last month data\n",
    "                df_base_and_test_proced = df_base_and_test_proced.iloc[-31:,IDX_BEGIN_FEATURE:]\n",
    "                np_base_and_test = df_base_and_test_proced.values.astype(np.float32)\n",
    "                input_tensor[i] = np_base_and_test\n",
    "\n",
    "            # inference 500 stocks every iter\n",
    "            all_preds_df = []\n",
    "            for i in range(0, 2000, batch_size):\n",
    "                tensor_base_and_test = torch.from_numpy(input_tensor[i:i+batch_size]).clone()\n",
    "                tensor_base_and_test = tensor_base_and_test.to(torch.float32)\n",
    "                tensor_base_and_test = tensor_base_and_test.to(device)\n",
    "                output = model.forward(tensor_base_and_test)\n",
    "                output = output.to('cpu').detach().numpy().copy().squeeze(1) # [bs, 1] -> [bs]\n",
    "                submit_df = prices[['Date', 'SecuritiesCode']].iloc[i:i+batch_size].copy()\n",
    "                submit_df['Target'] = output\n",
    "                all_preds_df.append(submit_df)\n",
    "\n",
    "            all_preds_df = pd.concat(all_preds_df).reset_index(drop=True)\n",
    "            all_preds_df['Rank'] = all_preds_df['Target'].rank(ascending=False,method=\"first\") -1\n",
    "            all_preds_df['Rank'] = all_preds_df['Rank'].astype(int)\n",
    "            all_preds_df = all_preds_df.drop('Target', axis=1)\n",
    "            env.predict(all_preds_df)\n",
    "        except:\n",
    "            all_preds_df = prices[['Date', 'SecuritiesCode']].copy()\n",
    "            dummy_rank = np.arange(2000)\n",
    "            np.random.shuffle(dummy_rank)\n",
    "            all_preds_df['Target'] = dummy_rank\n",
    "            env.predict(all_preds_df)\n",
    "        \n",
    "        cnt_days += 1\n",
    "            \n",
    "#             try:\n",
    "#                 train_df_base = train_dict_base[str(code)][-N_DAYS_PREPROCESS:]\n",
    "#                 # concat train df and test df\n",
    "#                 df_base_and_test = pd.concat((train_df_base.reset_index(drop=True),\n",
    "#                                               test_data_code_df.reset_index(drop=True))).reset_index(drop=True)\n",
    "#                 # remove oldest data\n",
    "#                 df_base_and_test = df_base_and_test.iloc[cnt_days:, :].reset_index(drop=True)\n",
    "\n",
    "#                 # update dict (appending new day's data for predicting several days later)\n",
    "#                 train_dict_base[str(code)] = df_base_and_test\n",
    "\n",
    "#                 # drop target\n",
    "#                 df_base_and_test = df_base_and_test.drop('Target', axis=1)\n",
    "\n",
    "#                 df_base_and_test_proced = preprocess(df_base_and_test, training=False)\n",
    "#                 df_base_and_test_proced[columns] = stdsc.transform(df_base_and_test_proced[columns])\n",
    "#                 df_base_and_test_proced = df_base_and_test_proced.iloc[-31:,IDX_BEGIN_FEATURE:]\n",
    "#                 np_base_and_test = df_base_and_test_proced.values.astype(np.float32)\n",
    "#                 np_base_and_test = np.array([np_base_and_test for _ in range(batch_size)]).squeeze(1)\n",
    "#                 tensor_base_and_test = torch.from_numpy(np_base_and_test).clone()\n",
    "#                 tensor_base_and_test = tensor_base_and_test.to(torch.float32)\n",
    "#                 tensor_base_and_test = tensor_base_and_test.to(device)\n",
    "#                 #tensor_base_and_test = tensor_base_and_test.view((1, 31, input_size))\n",
    "\n",
    "#                 output = model.forward(tensor_base_and_test)\n",
    "#                 output = output.to('cpu').detach().numpy().copy()[0][0]\n",
    "#                 submit_df = test_data_code_df[['Date', 'SecuritiesCode']]\n",
    "#                 submit_df['Target'] = output\n",
    "#                 all_preds_df.append(submit_df)\n",
    "#             except:\n",
    "#                 # if there doesn't exist test securities code in train code, setting output as 0\n",
    "#                 output = 0\n",
    "#                 submit_df = test_data_code_df[['Date', 'SecuritiesCode']]\n",
    "#                 submit_df['Target'] = output\n",
    "#                 all_preds_df.append(submit_df)\n",
    "\n",
    "#         all_preds_df = pd.concat(all_preds_df).reset_index(drop=True)\n",
    "#         all_preds_df['Rank'] = all_preds_df['Target'].rank(ascending=False,method=\"first\") -1\n",
    "#         all_preds_df['Rank'] = all_preds_df['Rank'].astype(int)\n",
    "#         all_preds_df = all_preds_df.drop('Target', axis=1)\n",
    "#         env.predict(all_preds_df)\n",
    "#         cnt_days += 1\n"
   ]
  },
  {
   "cell_type": "code",
   "execution_count": 25,
   "id": "0353279f",
   "metadata": {
    "execution": {
     "iopub.execute_input": "2022-07-04T18:46:31.942809Z",
     "iopub.status.busy": "2022-07-04T18:46:31.942429Z",
     "iopub.status.idle": "2022-07-04T18:46:31.950028Z",
     "shell.execute_reply": "2022-07-04T18:46:31.949261Z"
    },
    "papermill": {
     "duration": 28.254703,
     "end_time": "2022-07-04T18:46:31.951902",
     "exception": false,
     "start_time": "2022-07-04T18:46:03.697199",
     "status": "completed"
    },
    "tags": []
   },
   "outputs": [
    {
     "data": {
      "text/plain": [
       "Index(['Open', 'High', 'Low', 'Close', 'Volume', 'AdjustmentFactor',\n",
       "       'ExpectedDividend', 'SupervisionFlag', 'Month', 'SecuritiesCode_int',\n",
       "       'MA_5days', 'MA_25days', 'MA_75days', 'MACD', 'Signal',\n",
       "       'Bollinger_band_upper', 'Bollinger_band_lower', 'RSI', 'Open_diff',\n",
       "       'High_diff', 'Low_diff', 'Close_diff', 'Volume_diff',\n",
       "       'ExpectedDividend_diff', 'SecuritiesCode_int_diff', 'MA_5days_diff',\n",
       "       'MA_25days_diff', 'MA_75days_diff', 'MACD_diff', 'Signal_diff',\n",
       "       'Bollinger_band_upper_diff', 'Bollinger_band_lower_diff', 'RSI_diff'],\n",
       "      dtype='object')"
      ]
     },
     "execution_count": 25,
     "metadata": {},
     "output_type": "execute_result"
    }
   ],
   "source": [
    "df_base_and_test_proced.columns"
   ]
  },
  {
   "cell_type": "code",
   "execution_count": 26,
   "id": "bb990a60",
   "metadata": {
    "execution": {
     "iopub.execute_input": "2022-07-04T18:47:27.853711Z",
     "iopub.status.busy": "2022-07-04T18:47:27.853329Z",
     "iopub.status.idle": "2022-07-04T18:47:28.233563Z",
     "shell.execute_reply": "2022-07-04T18:47:28.232884Z"
    },
    "papermill": {
     "duration": 28.314749,
     "end_time": "2022-07-04T18:47:28.236735",
     "exception": false,
     "start_time": "2022-07-04T18:46:59.921986",
     "status": "completed"
    },
    "tags": []
   },
   "outputs": [
    {
     "data": {
      "text/plain": [
       "<matplotlib.legend.Legend at 0x7f636dc12910>"
      ]
     },
     "execution_count": 26,
     "metadata": {},
     "output_type": "execute_result"
    },
    {
     "data": {
      "image/png": "[encoded data removed]",
      "text/plain": [
       "<Figure size 432x288 with 1 Axes>"
      ]
     },
     "metadata": {
      "needs_background": "light"
     },
     "output_type": "display_data"
    }
   ],
   "source": [
    "df_base_and_test_proced.plot().legend(bbox_to_anchor=(1.05, 1), loc='upper left', borderaxespad=0)"
   ]
  },
  {
   "cell_type": "code",
   "execution_count": 27,
   "id": "c3264446",
   "metadata": {
    "execution": {
     "iopub.execute_input": "2022-07-04T18:48:24.253409Z",
     "iopub.status.busy": "2022-07-04T18:48:24.253058Z",
     "iopub.status.idle": "2022-07-04T18:48:24.438559Z",
     "shell.execute_reply": "2022-07-04T18:48:24.437906Z"
    },
    "papermill": {
     "duration": 28.281489,
     "end_time": "2022-07-04T18:48:24.440315",
     "exception": false,
     "start_time": "2022-07-04T18:47:56.158826",
     "status": "completed"
    },
    "tags": []
   },
   "outputs": [
    {
     "data": {
      "text/plain": [
       "<matplotlib.legend.Legend at 0x7f636dc31310>"
      ]
     },
     "execution_count": 27,
     "metadata": {},
     "output_type": "execute_result"
    },
    {
     "data": {
      "image/png": "[encoded data removed]",
      "text/plain": [
       "<Figure size 432x288 with 1 Axes>"
      ]
     },
     "metadata": {
      "needs_background": "light"
     },
     "output_type": "display_data"
    }
   ],
   "source": [
    "df_base_and_test_proced[['Close', 'MA_25days', 'MA_75days']].plot().legend(bbox_to_anchor=(1.05, 1), loc='upper left', borderaxespad=0)"
   ]
  },
  {
   "cell_type": "code",
   "execution_count": null,
   "id": "ca29cb4a",
   "metadata": {
    "papermill": {
     "duration": 27.882245,
     "end_time": "2022-07-04T18:49:20.756850",
     "exception": false,
     "start_time": "2022-07-04T18:48:52.874605",
     "status": "completed"
    },
    "tags": []
   },
   "outputs": [],
   "source": []
  }
 ],
 "metadata": {
  "kernelspec": {
   "display_name": "Python 3",
   "language": "python",
   "name": "python3"
  },
  "language_info": {
   "codemirror_mode": {
    "name": "ipython",
    "version": 3
   },
   "file_extension": ".py",
   "mimetype": "text/x-python",
   "name": "python",
   "nbconvert_exporter": "python",
   "pygments_lexer": "ipython3",
   "version": "3.7.12"
  },
  "papermill": {
   "default_parameters": {},
   "duration": 15853.128902,
   "end_time": "2022-07-04T18:49:50.571494",
   "environment_variables": {},
   "exception": null,
   "input_path": "__notebook__.ipynb",
   "output_path": "__notebook__.ipynb",
   "parameters": {},
   "start_time": "2022-07-04T14:25:37.442592",
   "version": "2.3.4"
  }
 },
 "nbformat": 4,
 "nbformat_minor": 5
}
